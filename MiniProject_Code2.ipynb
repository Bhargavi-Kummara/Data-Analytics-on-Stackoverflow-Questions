{
  "nbformat": 4,
  "nbformat_minor": 0,
  "metadata": {
    "colab": {
      "name": "MiniProject_Code2.ipynb",
      "provenance": [],
      "collapsed_sections": [],
      "include_colab_link": true
    },
    "kernelspec": {
      "name": "python3",
      "display_name": "Python 3"
    },
    "language_info": {
      "name": "python"
    },
    "widgets": {
      "application/vnd.jupyter.widget-state+json": {
        "b5f7c05c062f4273bd70a520bc5b27a7": {
          "model_module": "@jupyter-widgets/controls",
          "model_name": "HBoxModel",
          "model_module_version": "1.5.0",
          "state": {
            "_view_name": "HBoxView",
            "_dom_classes": [],
            "_model_name": "HBoxModel",
            "_view_module": "@jupyter-widgets/controls",
            "_model_module_version": "1.5.0",
            "_view_count": null,
            "_view_module_version": "1.5.0",
            "box_style": "",
            "layout": "IPY_MODEL_49603e182f2e444bbd458426582ed3b3",
            "_model_module": "@jupyter-widgets/controls",
            "children": [
              "IPY_MODEL_be4ca4b14a10497f8c62cb4db42be45e",
              "IPY_MODEL_ce109690844243d6a1d30e6e6802b357",
              "IPY_MODEL_197530d0544243da8ac74ff92d61d608"
            ]
          }
        },
        "49603e182f2e444bbd458426582ed3b3": {
          "model_module": "@jupyter-widgets/base",
          "model_name": "LayoutModel",
          "model_module_version": "1.2.0",
          "state": {
            "_view_name": "LayoutView",
            "grid_template_rows": null,
            "right": null,
            "justify_content": null,
            "_view_module": "@jupyter-widgets/base",
            "overflow": null,
            "_model_module_version": "1.2.0",
            "_view_count": null,
            "flex_flow": null,
            "width": null,
            "min_width": null,
            "border": null,
            "align_items": null,
            "bottom": null,
            "_model_module": "@jupyter-widgets/base",
            "top": null,
            "grid_column": null,
            "overflow_y": null,
            "overflow_x": null,
            "grid_auto_flow": null,
            "grid_area": null,
            "grid_template_columns": null,
            "flex": null,
            "_model_name": "LayoutModel",
            "justify_items": null,
            "grid_row": null,
            "max_height": null,
            "align_content": null,
            "visibility": null,
            "align_self": null,
            "height": null,
            "min_height": null,
            "padding": null,
            "grid_auto_rows": null,
            "grid_gap": null,
            "max_width": null,
            "order": null,
            "_view_module_version": "1.2.0",
            "grid_template_areas": null,
            "object_position": null,
            "object_fit": null,
            "grid_auto_columns": null,
            "margin": null,
            "display": null,
            "left": null
          }
        },
        "be4ca4b14a10497f8c62cb4db42be45e": {
          "model_module": "@jupyter-widgets/controls",
          "model_name": "HTMLModel",
          "model_module_version": "1.5.0",
          "state": {
            "_view_name": "HTMLView",
            "style": "IPY_MODEL_b39dac1de5dc40bcbaf5c376480690e0",
            "_dom_classes": [],
            "description": "",
            "_model_name": "HTMLModel",
            "placeholder": "​",
            "_view_module": "@jupyter-widgets/controls",
            "_model_module_version": "1.5.0",
            "value": "100%",
            "_view_count": null,
            "_view_module_version": "1.5.0",
            "description_tooltip": null,
            "_model_module": "@jupyter-widgets/controls",
            "layout": "IPY_MODEL_f51a2cf8865a43aeb16e5a32238d406f"
          }
        },
        "ce109690844243d6a1d30e6e6802b357": {
          "model_module": "@jupyter-widgets/controls",
          "model_name": "FloatProgressModel",
          "model_module_version": "1.5.0",
          "state": {
            "_view_name": "ProgressView",
            "style": "IPY_MODEL_24b89f59ba16492dacdb14454eadc08d",
            "_dom_classes": [],
            "description": "",
            "_model_name": "FloatProgressModel",
            "bar_style": "success",
            "max": 100,
            "_view_module": "@jupyter-widgets/controls",
            "_model_module_version": "1.5.0",
            "value": 100,
            "_view_count": null,
            "_view_module_version": "1.5.0",
            "orientation": "horizontal",
            "min": 0,
            "description_tooltip": null,
            "_model_module": "@jupyter-widgets/controls",
            "layout": "IPY_MODEL_42f596de83804c97b9b05bce082977e6"
          }
        },
        "197530d0544243da8ac74ff92d61d608": {
          "model_module": "@jupyter-widgets/controls",
          "model_name": "HTMLModel",
          "model_module_version": "1.5.0",
          "state": {
            "_view_name": "HTMLView",
            "style": "IPY_MODEL_6220aa0b0efa4458a70d46eef705b46b",
            "_dom_classes": [],
            "description": "",
            "_model_name": "HTMLModel",
            "placeholder": "​",
            "_view_module": "@jupyter-widgets/controls",
            "_model_module_version": "1.5.0",
            "value": " 100/100 [00:00&lt;00:00, 2876.26it/s]",
            "_view_count": null,
            "_view_module_version": "1.5.0",
            "description_tooltip": null,
            "_model_module": "@jupyter-widgets/controls",
            "layout": "IPY_MODEL_79046c0f6e724ac8852270c967749722"
          }
        },
        "b39dac1de5dc40bcbaf5c376480690e0": {
          "model_module": "@jupyter-widgets/controls",
          "model_name": "DescriptionStyleModel",
          "model_module_version": "1.5.0",
          "state": {
            "_view_name": "StyleView",
            "_model_name": "DescriptionStyleModel",
            "description_width": "",
            "_view_module": "@jupyter-widgets/base",
            "_model_module_version": "1.5.0",
            "_view_count": null,
            "_view_module_version": "1.2.0",
            "_model_module": "@jupyter-widgets/controls"
          }
        },
        "f51a2cf8865a43aeb16e5a32238d406f": {
          "model_module": "@jupyter-widgets/base",
          "model_name": "LayoutModel",
          "model_module_version": "1.2.0",
          "state": {
            "_view_name": "LayoutView",
            "grid_template_rows": null,
            "right": null,
            "justify_content": null,
            "_view_module": "@jupyter-widgets/base",
            "overflow": null,
            "_model_module_version": "1.2.0",
            "_view_count": null,
            "flex_flow": null,
            "width": null,
            "min_width": null,
            "border": null,
            "align_items": null,
            "bottom": null,
            "_model_module": "@jupyter-widgets/base",
            "top": null,
            "grid_column": null,
            "overflow_y": null,
            "overflow_x": null,
            "grid_auto_flow": null,
            "grid_area": null,
            "grid_template_columns": null,
            "flex": null,
            "_model_name": "LayoutModel",
            "justify_items": null,
            "grid_row": null,
            "max_height": null,
            "align_content": null,
            "visibility": null,
            "align_self": null,
            "height": null,
            "min_height": null,
            "padding": null,
            "grid_auto_rows": null,
            "grid_gap": null,
            "max_width": null,
            "order": null,
            "_view_module_version": "1.2.0",
            "grid_template_areas": null,
            "object_position": null,
            "object_fit": null,
            "grid_auto_columns": null,
            "margin": null,
            "display": null,
            "left": null
          }
        },
        "24b89f59ba16492dacdb14454eadc08d": {
          "model_module": "@jupyter-widgets/controls",
          "model_name": "ProgressStyleModel",
          "model_module_version": "1.5.0",
          "state": {
            "_view_name": "StyleView",
            "_model_name": "ProgressStyleModel",
            "description_width": "",
            "_view_module": "@jupyter-widgets/base",
            "_model_module_version": "1.5.0",
            "_view_count": null,
            "_view_module_version": "1.2.0",
            "bar_color": null,
            "_model_module": "@jupyter-widgets/controls"
          }
        },
        "42f596de83804c97b9b05bce082977e6": {
          "model_module": "@jupyter-widgets/base",
          "model_name": "LayoutModel",
          "model_module_version": "1.2.0",
          "state": {
            "_view_name": "LayoutView",
            "grid_template_rows": null,
            "right": null,
            "justify_content": null,
            "_view_module": "@jupyter-widgets/base",
            "overflow": null,
            "_model_module_version": "1.2.0",
            "_view_count": null,
            "flex_flow": null,
            "width": null,
            "min_width": null,
            "border": null,
            "align_items": null,
            "bottom": null,
            "_model_module": "@jupyter-widgets/base",
            "top": null,
            "grid_column": null,
            "overflow_y": null,
            "overflow_x": null,
            "grid_auto_flow": null,
            "grid_area": null,
            "grid_template_columns": null,
            "flex": null,
            "_model_name": "LayoutModel",
            "justify_items": null,
            "grid_row": null,
            "max_height": null,
            "align_content": null,
            "visibility": null,
            "align_self": null,
            "height": null,
            "min_height": null,
            "padding": null,
            "grid_auto_rows": null,
            "grid_gap": null,
            "max_width": null,
            "order": null,
            "_view_module_version": "1.2.0",
            "grid_template_areas": null,
            "object_position": null,
            "object_fit": null,
            "grid_auto_columns": null,
            "margin": null,
            "display": null,
            "left": null
          }
        },
        "6220aa0b0efa4458a70d46eef705b46b": {
          "model_module": "@jupyter-widgets/controls",
          "model_name": "DescriptionStyleModel",
          "model_module_version": "1.5.0",
          "state": {
            "_view_name": "StyleView",
            "_model_name": "DescriptionStyleModel",
            "description_width": "",
            "_view_module": "@jupyter-widgets/base",
            "_model_module_version": "1.5.0",
            "_view_count": null,
            "_view_module_version": "1.2.0",
            "_model_module": "@jupyter-widgets/controls"
          }
        },
        "79046c0f6e724ac8852270c967749722": {
          "model_module": "@jupyter-widgets/base",
          "model_name": "LayoutModel",
          "model_module_version": "1.2.0",
          "state": {
            "_view_name": "LayoutView",
            "grid_template_rows": null,
            "right": null,
            "justify_content": null,
            "_view_module": "@jupyter-widgets/base",
            "overflow": null,
            "_model_module_version": "1.2.0",
            "_view_count": null,
            "flex_flow": null,
            "width": null,
            "min_width": null,
            "border": null,
            "align_items": null,
            "bottom": null,
            "_model_module": "@jupyter-widgets/base",
            "top": null,
            "grid_column": null,
            "overflow_y": null,
            "overflow_x": null,
            "grid_auto_flow": null,
            "grid_area": null,
            "grid_template_columns": null,
            "flex": null,
            "_model_name": "LayoutModel",
            "justify_items": null,
            "grid_row": null,
            "max_height": null,
            "align_content": null,
            "visibility": null,
            "align_self": null,
            "height": null,
            "min_height": null,
            "padding": null,
            "grid_auto_rows": null,
            "grid_gap": null,
            "max_width": null,
            "order": null,
            "_view_module_version": "1.2.0",
            "grid_template_areas": null,
            "object_position": null,
            "object_fit": null,
            "grid_auto_columns": null,
            "margin": null,
            "display": null,
            "left": null
          }
        },
        "e8ab8d9a328c47b2aae11305e0afba82": {
          "model_module": "@jupyter-widgets/controls",
          "model_name": "HBoxModel",
          "model_module_version": "1.5.0",
          "state": {
            "_view_name": "HBoxView",
            "_dom_classes": [],
            "_model_name": "HBoxModel",
            "_view_module": "@jupyter-widgets/controls",
            "_model_module_version": "1.5.0",
            "_view_count": null,
            "_view_module_version": "1.5.0",
            "box_style": "",
            "layout": "IPY_MODEL_dbb141e2785748e7811f83675639eb1d",
            "_model_module": "@jupyter-widgets/controls",
            "children": [
              "IPY_MODEL_076c4f07d124449bb28a09f84e09140f",
              "IPY_MODEL_fab1b3697c084cbd8d6fafaee05b3464",
              "IPY_MODEL_6fc01f84c0ae4cad89203c5993b83972"
            ]
          }
        },
        "dbb141e2785748e7811f83675639eb1d": {
          "model_module": "@jupyter-widgets/base",
          "model_name": "LayoutModel",
          "model_module_version": "1.2.0",
          "state": {
            "_view_name": "LayoutView",
            "grid_template_rows": null,
            "right": null,
            "justify_content": null,
            "_view_module": "@jupyter-widgets/base",
            "overflow": null,
            "_model_module_version": "1.2.0",
            "_view_count": null,
            "flex_flow": null,
            "width": null,
            "min_width": null,
            "border": null,
            "align_items": null,
            "bottom": null,
            "_model_module": "@jupyter-widgets/base",
            "top": null,
            "grid_column": null,
            "overflow_y": null,
            "overflow_x": null,
            "grid_auto_flow": null,
            "grid_area": null,
            "grid_template_columns": null,
            "flex": null,
            "_model_name": "LayoutModel",
            "justify_items": null,
            "grid_row": null,
            "max_height": null,
            "align_content": null,
            "visibility": null,
            "align_self": null,
            "height": null,
            "min_height": null,
            "padding": null,
            "grid_auto_rows": null,
            "grid_gap": null,
            "max_width": null,
            "order": null,
            "_view_module_version": "1.2.0",
            "grid_template_areas": null,
            "object_position": null,
            "object_fit": null,
            "grid_auto_columns": null,
            "margin": null,
            "display": null,
            "left": null
          }
        },
        "076c4f07d124449bb28a09f84e09140f": {
          "model_module": "@jupyter-widgets/controls",
          "model_name": "HTMLModel",
          "model_module_version": "1.5.0",
          "state": {
            "_view_name": "HTMLView",
            "style": "IPY_MODEL_3c20d5dab633484cbef0e2957a96f05a",
            "_dom_classes": [],
            "description": "",
            "_model_name": "HTMLModel",
            "placeholder": "​",
            "_view_module": "@jupyter-widgets/controls",
            "_model_module_version": "1.5.0",
            "value": "100%",
            "_view_count": null,
            "_view_module_version": "1.5.0",
            "description_tooltip": null,
            "_model_module": "@jupyter-widgets/controls",
            "layout": "IPY_MODEL_4d27539f1b2748249fbbd3bd5f58a8a0"
          }
        },
        "fab1b3697c084cbd8d6fafaee05b3464": {
          "model_module": "@jupyter-widgets/controls",
          "model_name": "FloatProgressModel",
          "model_module_version": "1.5.0",
          "state": {
            "_view_name": "ProgressView",
            "style": "IPY_MODEL_a64541f8ac9d4dcda671c6d1d716ced4",
            "_dom_classes": [],
            "description": "",
            "_model_name": "FloatProgressModel",
            "bar_style": "success",
            "max": 100,
            "_view_module": "@jupyter-widgets/controls",
            "_model_module_version": "1.5.0",
            "value": 100,
            "_view_count": null,
            "_view_module_version": "1.5.0",
            "orientation": "horizontal",
            "min": 0,
            "description_tooltip": null,
            "_model_module": "@jupyter-widgets/controls",
            "layout": "IPY_MODEL_3241f123e23f4ecf9d0b7c8b18460bd3"
          }
        },
        "6fc01f84c0ae4cad89203c5993b83972": {
          "model_module": "@jupyter-widgets/controls",
          "model_name": "HTMLModel",
          "model_module_version": "1.5.0",
          "state": {
            "_view_name": "HTMLView",
            "style": "IPY_MODEL_e319dbaae811481d8f368e63b45adafe",
            "_dom_classes": [],
            "description": "",
            "_model_name": "HTMLModel",
            "placeholder": "​",
            "_view_module": "@jupyter-widgets/controls",
            "_model_module_version": "1.5.0",
            "value": " 100/100 [00:00&lt;00:00, 2390.28it/s]",
            "_view_count": null,
            "_view_module_version": "1.5.0",
            "description_tooltip": null,
            "_model_module": "@jupyter-widgets/controls",
            "layout": "IPY_MODEL_d2fe102e57f44f988ba9f4a87ea7b16f"
          }
        },
        "3c20d5dab633484cbef0e2957a96f05a": {
          "model_module": "@jupyter-widgets/controls",
          "model_name": "DescriptionStyleModel",
          "model_module_version": "1.5.0",
          "state": {
            "_view_name": "StyleView",
            "_model_name": "DescriptionStyleModel",
            "description_width": "",
            "_view_module": "@jupyter-widgets/base",
            "_model_module_version": "1.5.0",
            "_view_count": null,
            "_view_module_version": "1.2.0",
            "_model_module": "@jupyter-widgets/controls"
          }
        },
        "4d27539f1b2748249fbbd3bd5f58a8a0": {
          "model_module": "@jupyter-widgets/base",
          "model_name": "LayoutModel",
          "model_module_version": "1.2.0",
          "state": {
            "_view_name": "LayoutView",
            "grid_template_rows": null,
            "right": null,
            "justify_content": null,
            "_view_module": "@jupyter-widgets/base",
            "overflow": null,
            "_model_module_version": "1.2.0",
            "_view_count": null,
            "flex_flow": null,
            "width": null,
            "min_width": null,
            "border": null,
            "align_items": null,
            "bottom": null,
            "_model_module": "@jupyter-widgets/base",
            "top": null,
            "grid_column": null,
            "overflow_y": null,
            "overflow_x": null,
            "grid_auto_flow": null,
            "grid_area": null,
            "grid_template_columns": null,
            "flex": null,
            "_model_name": "LayoutModel",
            "justify_items": null,
            "grid_row": null,
            "max_height": null,
            "align_content": null,
            "visibility": null,
            "align_self": null,
            "height": null,
            "min_height": null,
            "padding": null,
            "grid_auto_rows": null,
            "grid_gap": null,
            "max_width": null,
            "order": null,
            "_view_module_version": "1.2.0",
            "grid_template_areas": null,
            "object_position": null,
            "object_fit": null,
            "grid_auto_columns": null,
            "margin": null,
            "display": null,
            "left": null
          }
        },
        "a64541f8ac9d4dcda671c6d1d716ced4": {
          "model_module": "@jupyter-widgets/controls",
          "model_name": "ProgressStyleModel",
          "model_module_version": "1.5.0",
          "state": {
            "_view_name": "StyleView",
            "_model_name": "ProgressStyleModel",
            "description_width": "",
            "_view_module": "@jupyter-widgets/base",
            "_model_module_version": "1.5.0",
            "_view_count": null,
            "_view_module_version": "1.2.0",
            "bar_color": null,
            "_model_module": "@jupyter-widgets/controls"
          }
        },
        "3241f123e23f4ecf9d0b7c8b18460bd3": {
          "model_module": "@jupyter-widgets/base",
          "model_name": "LayoutModel",
          "model_module_version": "1.2.0",
          "state": {
            "_view_name": "LayoutView",
            "grid_template_rows": null,
            "right": null,
            "justify_content": null,
            "_view_module": "@jupyter-widgets/base",
            "overflow": null,
            "_model_module_version": "1.2.0",
            "_view_count": null,
            "flex_flow": null,
            "width": null,
            "min_width": null,
            "border": null,
            "align_items": null,
            "bottom": null,
            "_model_module": "@jupyter-widgets/base",
            "top": null,
            "grid_column": null,
            "overflow_y": null,
            "overflow_x": null,
            "grid_auto_flow": null,
            "grid_area": null,
            "grid_template_columns": null,
            "flex": null,
            "_model_name": "LayoutModel",
            "justify_items": null,
            "grid_row": null,
            "max_height": null,
            "align_content": null,
            "visibility": null,
            "align_self": null,
            "height": null,
            "min_height": null,
            "padding": null,
            "grid_auto_rows": null,
            "grid_gap": null,
            "max_width": null,
            "order": null,
            "_view_module_version": "1.2.0",
            "grid_template_areas": null,
            "object_position": null,
            "object_fit": null,
            "grid_auto_columns": null,
            "margin": null,
            "display": null,
            "left": null
          }
        },
        "e319dbaae811481d8f368e63b45adafe": {
          "model_module": "@jupyter-widgets/controls",
          "model_name": "DescriptionStyleModel",
          "model_module_version": "1.5.0",
          "state": {
            "_view_name": "StyleView",
            "_model_name": "DescriptionStyleModel",
            "description_width": "",
            "_view_module": "@jupyter-widgets/base",
            "_model_module_version": "1.5.0",
            "_view_count": null,
            "_view_module_version": "1.2.0",
            "_model_module": "@jupyter-widgets/controls"
          }
        },
        "d2fe102e57f44f988ba9f4a87ea7b16f": {
          "model_module": "@jupyter-widgets/base",
          "model_name": "LayoutModel",
          "model_module_version": "1.2.0",
          "state": {
            "_view_name": "LayoutView",
            "grid_template_rows": null,
            "right": null,
            "justify_content": null,
            "_view_module": "@jupyter-widgets/base",
            "overflow": null,
            "_model_module_version": "1.2.0",
            "_view_count": null,
            "flex_flow": null,
            "width": null,
            "min_width": null,
            "border": null,
            "align_items": null,
            "bottom": null,
            "_model_module": "@jupyter-widgets/base",
            "top": null,
            "grid_column": null,
            "overflow_y": null,
            "overflow_x": null,
            "grid_auto_flow": null,
            "grid_area": null,
            "grid_template_columns": null,
            "flex": null,
            "_model_name": "LayoutModel",
            "justify_items": null,
            "grid_row": null,
            "max_height": null,
            "align_content": null,
            "visibility": null,
            "align_self": null,
            "height": null,
            "min_height": null,
            "padding": null,
            "grid_auto_rows": null,
            "grid_gap": null,
            "max_width": null,
            "order": null,
            "_view_module_version": "1.2.0",
            "grid_template_areas": null,
            "object_position": null,
            "object_fit": null,
            "grid_auto_columns": null,
            "margin": null,
            "display": null,
            "left": null
          }
        },
        "856b8b9f30c64fada8db40938760d897": {
          "model_module": "@jupyter-widgets/controls",
          "model_name": "HBoxModel",
          "model_module_version": "1.5.0",
          "state": {
            "_view_name": "HBoxView",
            "_dom_classes": [],
            "_model_name": "HBoxModel",
            "_view_module": "@jupyter-widgets/controls",
            "_model_module_version": "1.5.0",
            "_view_count": null,
            "_view_module_version": "1.5.0",
            "box_style": "",
            "layout": "IPY_MODEL_476981e61f7b4512ab917976437cf0f0",
            "_model_module": "@jupyter-widgets/controls",
            "children": [
              "IPY_MODEL_b2f74da2f7ac432c89f50089f9f14ec1",
              "IPY_MODEL_0bccb740bdb1467187c47ee9fb5552d1",
              "IPY_MODEL_269cc16af56148ae88894c7f3d117948"
            ]
          }
        },
        "476981e61f7b4512ab917976437cf0f0": {
          "model_module": "@jupyter-widgets/base",
          "model_name": "LayoutModel",
          "model_module_version": "1.2.0",
          "state": {
            "_view_name": "LayoutView",
            "grid_template_rows": null,
            "right": null,
            "justify_content": null,
            "_view_module": "@jupyter-widgets/base",
            "overflow": null,
            "_model_module_version": "1.2.0",
            "_view_count": null,
            "flex_flow": null,
            "width": null,
            "min_width": null,
            "border": null,
            "align_items": null,
            "bottom": null,
            "_model_module": "@jupyter-widgets/base",
            "top": null,
            "grid_column": null,
            "overflow_y": null,
            "overflow_x": null,
            "grid_auto_flow": null,
            "grid_area": null,
            "grid_template_columns": null,
            "flex": null,
            "_model_name": "LayoutModel",
            "justify_items": null,
            "grid_row": null,
            "max_height": null,
            "align_content": null,
            "visibility": null,
            "align_self": null,
            "height": null,
            "min_height": null,
            "padding": null,
            "grid_auto_rows": null,
            "grid_gap": null,
            "max_width": null,
            "order": null,
            "_view_module_version": "1.2.0",
            "grid_template_areas": null,
            "object_position": null,
            "object_fit": null,
            "grid_auto_columns": null,
            "margin": null,
            "display": null,
            "left": null
          }
        },
        "b2f74da2f7ac432c89f50089f9f14ec1": {
          "model_module": "@jupyter-widgets/controls",
          "model_name": "HTMLModel",
          "model_module_version": "1.5.0",
          "state": {
            "_view_name": "HTMLView",
            "style": "IPY_MODEL_68f8d36403f749ce86921903cb6cd911",
            "_dom_classes": [],
            "description": "",
            "_model_name": "HTMLModel",
            "placeholder": "​",
            "_view_module": "@jupyter-widgets/controls",
            "_model_module_version": "1.5.0",
            "value": "100%",
            "_view_count": null,
            "_view_module_version": "1.5.0",
            "description_tooltip": null,
            "_model_module": "@jupyter-widgets/controls",
            "layout": "IPY_MODEL_d752b319a857408590890e8c90ec8922"
          }
        },
        "0bccb740bdb1467187c47ee9fb5552d1": {
          "model_module": "@jupyter-widgets/controls",
          "model_name": "FloatProgressModel",
          "model_module_version": "1.5.0",
          "state": {
            "_view_name": "ProgressView",
            "style": "IPY_MODEL_d9231f2c24c144b6985efb936b5049cb",
            "_dom_classes": [],
            "description": "",
            "_model_name": "FloatProgressModel",
            "bar_style": "success",
            "max": 100,
            "_view_module": "@jupyter-widgets/controls",
            "_model_module_version": "1.5.0",
            "value": 100,
            "_view_count": null,
            "_view_module_version": "1.5.0",
            "orientation": "horizontal",
            "min": 0,
            "description_tooltip": null,
            "_model_module": "@jupyter-widgets/controls",
            "layout": "IPY_MODEL_06d4e8330e834fb8bb7c9f44fc249961"
          }
        },
        "269cc16af56148ae88894c7f3d117948": {
          "model_module": "@jupyter-widgets/controls",
          "model_name": "HTMLModel",
          "model_module_version": "1.5.0",
          "state": {
            "_view_name": "HTMLView",
            "style": "IPY_MODEL_84abec4132394065b772be8839d6d945",
            "_dom_classes": [],
            "description": "",
            "_model_name": "HTMLModel",
            "placeholder": "​",
            "_view_module": "@jupyter-widgets/controls",
            "_model_module_version": "1.5.0",
            "value": " 100/100 [00:00&lt;00:00, 1995.37it/s]",
            "_view_count": null,
            "_view_module_version": "1.5.0",
            "description_tooltip": null,
            "_model_module": "@jupyter-widgets/controls",
            "layout": "IPY_MODEL_4dec2d45d5e44065acbdf65e07646b18"
          }
        },
        "68f8d36403f749ce86921903cb6cd911": {
          "model_module": "@jupyter-widgets/controls",
          "model_name": "DescriptionStyleModel",
          "model_module_version": "1.5.0",
          "state": {
            "_view_name": "StyleView",
            "_model_name": "DescriptionStyleModel",
            "description_width": "",
            "_view_module": "@jupyter-widgets/base",
            "_model_module_version": "1.5.0",
            "_view_count": null,
            "_view_module_version": "1.2.0",
            "_model_module": "@jupyter-widgets/controls"
          }
        },
        "d752b319a857408590890e8c90ec8922": {
          "model_module": "@jupyter-widgets/base",
          "model_name": "LayoutModel",
          "model_module_version": "1.2.0",
          "state": {
            "_view_name": "LayoutView",
            "grid_template_rows": null,
            "right": null,
            "justify_content": null,
            "_view_module": "@jupyter-widgets/base",
            "overflow": null,
            "_model_module_version": "1.2.0",
            "_view_count": null,
            "flex_flow": null,
            "width": null,
            "min_width": null,
            "border": null,
            "align_items": null,
            "bottom": null,
            "_model_module": "@jupyter-widgets/base",
            "top": null,
            "grid_column": null,
            "overflow_y": null,
            "overflow_x": null,
            "grid_auto_flow": null,
            "grid_area": null,
            "grid_template_columns": null,
            "flex": null,
            "_model_name": "LayoutModel",
            "justify_items": null,
            "grid_row": null,
            "max_height": null,
            "align_content": null,
            "visibility": null,
            "align_self": null,
            "height": null,
            "min_height": null,
            "padding": null,
            "grid_auto_rows": null,
            "grid_gap": null,
            "max_width": null,
            "order": null,
            "_view_module_version": "1.2.0",
            "grid_template_areas": null,
            "object_position": null,
            "object_fit": null,
            "grid_auto_columns": null,
            "margin": null,
            "display": null,
            "left": null
          }
        },
        "d9231f2c24c144b6985efb936b5049cb": {
          "model_module": "@jupyter-widgets/controls",
          "model_name": "ProgressStyleModel",
          "model_module_version": "1.5.0",
          "state": {
            "_view_name": "StyleView",
            "_model_name": "ProgressStyleModel",
            "description_width": "",
            "_view_module": "@jupyter-widgets/base",
            "_model_module_version": "1.5.0",
            "_view_count": null,
            "_view_module_version": "1.2.0",
            "bar_color": null,
            "_model_module": "@jupyter-widgets/controls"
          }
        },
        "06d4e8330e834fb8bb7c9f44fc249961": {
          "model_module": "@jupyter-widgets/base",
          "model_name": "LayoutModel",
          "model_module_version": "1.2.0",
          "state": {
            "_view_name": "LayoutView",
            "grid_template_rows": null,
            "right": null,
            "justify_content": null,
            "_view_module": "@jupyter-widgets/base",
            "overflow": null,
            "_model_module_version": "1.2.0",
            "_view_count": null,
            "flex_flow": null,
            "width": null,
            "min_width": null,
            "border": null,
            "align_items": null,
            "bottom": null,
            "_model_module": "@jupyter-widgets/base",
            "top": null,
            "grid_column": null,
            "overflow_y": null,
            "overflow_x": null,
            "grid_auto_flow": null,
            "grid_area": null,
            "grid_template_columns": null,
            "flex": null,
            "_model_name": "LayoutModel",
            "justify_items": null,
            "grid_row": null,
            "max_height": null,
            "align_content": null,
            "visibility": null,
            "align_self": null,
            "height": null,
            "min_height": null,
            "padding": null,
            "grid_auto_rows": null,
            "grid_gap": null,
            "max_width": null,
            "order": null,
            "_view_module_version": "1.2.0",
            "grid_template_areas": null,
            "object_position": null,
            "object_fit": null,
            "grid_auto_columns": null,
            "margin": null,
            "display": null,
            "left": null
          }
        },
        "84abec4132394065b772be8839d6d945": {
          "model_module": "@jupyter-widgets/controls",
          "model_name": "DescriptionStyleModel",
          "model_module_version": "1.5.0",
          "state": {
            "_view_name": "StyleView",
            "_model_name": "DescriptionStyleModel",
            "description_width": "",
            "_view_module": "@jupyter-widgets/base",
            "_model_module_version": "1.5.0",
            "_view_count": null,
            "_view_module_version": "1.2.0",
            "_model_module": "@jupyter-widgets/controls"
          }
        },
        "4dec2d45d5e44065acbdf65e07646b18": {
          "model_module": "@jupyter-widgets/base",
          "model_name": "LayoutModel",
          "model_module_version": "1.2.0",
          "state": {
            "_view_name": "LayoutView",
            "grid_template_rows": null,
            "right": null,
            "justify_content": null,
            "_view_module": "@jupyter-widgets/base",
            "overflow": null,
            "_model_module_version": "1.2.0",
            "_view_count": null,
            "flex_flow": null,
            "width": null,
            "min_width": null,
            "border": null,
            "align_items": null,
            "bottom": null,
            "_model_module": "@jupyter-widgets/base",
            "top": null,
            "grid_column": null,
            "overflow_y": null,
            "overflow_x": null,
            "grid_auto_flow": null,
            "grid_area": null,
            "grid_template_columns": null,
            "flex": null,
            "_model_name": "LayoutModel",
            "justify_items": null,
            "grid_row": null,
            "max_height": null,
            "align_content": null,
            "visibility": null,
            "align_self": null,
            "height": null,
            "min_height": null,
            "padding": null,
            "grid_auto_rows": null,
            "grid_gap": null,
            "max_width": null,
            "order": null,
            "_view_module_version": "1.2.0",
            "grid_template_areas": null,
            "object_position": null,
            "object_fit": null,
            "grid_auto_columns": null,
            "margin": null,
            "display": null,
            "left": null
          }
        }
      }
    }
  },
  "cells": [
    {
      "cell_type": "markdown",
      "metadata": {
        "id": "view-in-github",
        "colab_type": "text"
      },
      "source": [
        "<a href=\"https://colab.research.google.com/github/Bhargavi-Kummara/MiniProject2/blob/main/MiniProject_Code2.ipynb\" target=\"_parent\"><img src=\"https://colab.research.google.com/assets/colab-badge.svg\" alt=\"Open In Colab\"/></a>"
      ]
    },
    {
      "cell_type": "markdown",
      "metadata": {
        "id": "8BAtD6izGALX"
      },
      "source": [
        "# Data Analytics on Stackoverflow Data"
      ]
    },
    {
      "cell_type": "markdown",
      "metadata": {
        "id": "pGVkFP_a1JdY"
      },
      "source": [
        "## Install and import dependencies"
      ]
    },
    {
      "cell_type": "code",
      "metadata": {
        "colab": {
          "base_uri": "https://localhost:8080/"
        },
        "id": "ih9kkEmU5_ep",
        "outputId": "5747c760-5954-4c2e-a02a-977c8c4e4273"
      },
      "source": [
        "pip install requests-html requests pandas"
      ],
      "execution_count": null,
      "outputs": [
        {
          "output_type": "stream",
          "name": "stdout",
          "text": [
            "Requirement already satisfied: requests-html in /usr/local/lib/python3.7/dist-packages (0.10.0)\n",
            "Requirement already satisfied: requests in /usr/local/lib/python3.7/dist-packages (2.23.0)\n",
            "Requirement already satisfied: pandas in /usr/local/lib/python3.7/dist-packages (1.1.5)\n",
            "Requirement already satisfied: pyquery in /usr/local/lib/python3.7/dist-packages (from requests-html) (1.4.3)\n",
            "Requirement already satisfied: w3lib in /usr/local/lib/python3.7/dist-packages (from requests-html) (1.22.0)\n",
            "Requirement already satisfied: bs4 in /usr/local/lib/python3.7/dist-packages (from requests-html) (0.0.1)\n",
            "Requirement already satisfied: parse in /usr/local/lib/python3.7/dist-packages (from requests-html) (1.19.0)\n",
            "Requirement already satisfied: fake-useragent in /usr/local/lib/python3.7/dist-packages (from requests-html) (0.1.11)\n",
            "Requirement already satisfied: pyppeteer>=0.0.14 in /usr/local/lib/python3.7/dist-packages (from requests-html) (0.2.6)\n",
            "Requirement already satisfied: pyee<9.0.0,>=8.1.0 in /usr/local/lib/python3.7/dist-packages (from pyppeteer>=0.0.14->requests-html) (8.2.2)\n",
            "Requirement already satisfied: websockets<10.0,>=9.1 in /usr/local/lib/python3.7/dist-packages (from pyppeteer>=0.0.14->requests-html) (9.1)\n",
            "Requirement already satisfied: tqdm<5.0.0,>=4.42.1 in /usr/local/lib/python3.7/dist-packages (from pyppeteer>=0.0.14->requests-html) (4.62.3)\n",
            "Requirement already satisfied: appdirs<2.0.0,>=1.4.3 in /usr/local/lib/python3.7/dist-packages (from pyppeteer>=0.0.14->requests-html) (1.4.4)\n",
            "Requirement already satisfied: urllib3<2.0.0,>=1.25.8 in /usr/local/lib/python3.7/dist-packages (from pyppeteer>=0.0.14->requests-html) (1.25.11)\n",
            "Requirement already satisfied: importlib-metadata>=1.4 in /usr/local/lib/python3.7/dist-packages (from pyppeteer>=0.0.14->requests-html) (4.8.2)\n",
            "Requirement already satisfied: typing-extensions>=3.6.4 in /usr/local/lib/python3.7/dist-packages (from importlib-metadata>=1.4->pyppeteer>=0.0.14->requests-html) (3.10.0.2)\n",
            "Requirement already satisfied: zipp>=0.5 in /usr/local/lib/python3.7/dist-packages (from importlib-metadata>=1.4->pyppeteer>=0.0.14->requests-html) (3.6.0)\n",
            "Requirement already satisfied: certifi>=2017.4.17 in /usr/local/lib/python3.7/dist-packages (from requests) (2021.10.8)\n",
            "Requirement already satisfied: idna<3,>=2.5 in /usr/local/lib/python3.7/dist-packages (from requests) (2.10)\n",
            "Requirement already satisfied: chardet<4,>=3.0.2 in /usr/local/lib/python3.7/dist-packages (from requests) (3.0.4)\n",
            "Requirement already satisfied: python-dateutil>=2.7.3 in /usr/local/lib/python3.7/dist-packages (from pandas) (2.8.2)\n",
            "Requirement already satisfied: numpy>=1.15.4 in /usr/local/lib/python3.7/dist-packages (from pandas) (1.19.5)\n",
            "Requirement already satisfied: pytz>=2017.2 in /usr/local/lib/python3.7/dist-packages (from pandas) (2018.9)\n",
            "Requirement already satisfied: six>=1.5 in /usr/local/lib/python3.7/dist-packages (from python-dateutil>=2.7.3->pandas) (1.15.0)\n",
            "Requirement already satisfied: beautifulsoup4 in /usr/local/lib/python3.7/dist-packages (from bs4->requests-html) (4.6.3)\n",
            "Requirement already satisfied: lxml>=2.1 in /usr/local/lib/python3.7/dist-packages (from pyquery->requests-html) (4.2.6)\n",
            "Requirement already satisfied: cssselect>0.7.9 in /usr/local/lib/python3.7/dist-packages (from pyquery->requests-html) (1.1.0)\n"
          ]
        }
      ]
    },
    {
      "cell_type": "code",
      "metadata": {
        "id": "XXQUF267oVWX"
      },
      "source": [
        "import requests\n",
        "from requests_html import HTML\n",
        "import numpy as np\n",
        "import pandas as pd\n",
        "import random\n",
        "import os\n",
        "import time\n",
        "import warnings\n",
        "from tqdm import tqdm_notebook\n",
        "from collections import Counter\n",
        "from gensim.models import Word2Vec\n",
        "from sklearn.decomposition import PCA\n",
        "import matplotlib.pyplot as plt\n",
        "\n",
        "%matplotlib inline\n",
        "\n",
        "warnings.filterwarnings(\"ignore\")\n",
        "\n",
        "plt.rcParams['figure.figsize'] = (10.0, 10.0)"
      ],
      "execution_count": null,
      "outputs": []
    },
    {
      "cell_type": "markdown",
      "metadata": {
        "id": "fwJ_7HsvVVBz"
      },
      "source": [
        "## Scraping multiple pages"
      ]
    },
    {
      "cell_type": "markdown",
      "metadata": {
        "id": "zvw5_GPp0I9Z"
      },
      "source": [
        "### Function for Data Manipulation and Cleaning"
      ]
    },
    {
      "cell_type": "code",
      "metadata": {
        "id": "d3KD2SMBDU9_"
      },
      "source": [
        "def clean_scraped_data(text, keyname=None):\n",
        "    if keyname == 'user_name':\n",
        "      return text.split(\"\\n\")[0]\n",
        "    if keyname == 'votes':\n",
        "        return text.replace('\\nvotes', '')\n",
        "    if keyname == 'views':\n",
        "        return text.replace(' views', '')\n",
        "    if keyname == 'num_answers':\n",
        "      if text != '1answer':\n",
        "        return text.replace('answers', '')\n",
        "      else:\n",
        "        return text.replace('answer', '')\n",
        "    return text"
      ],
      "execution_count": null,
      "outputs": []
    },
    {
      "cell_type": "markdown",
      "metadata": {
        "id": "UCdDdJpV0WDK"
      },
      "source": [
        "### Function for Parsing the web page"
      ]
    },
    {
      "cell_type": "code",
      "metadata": {
        "id": "g08IgHmYET0L"
      },
      "source": [
        "def parse_tagged_page(html):\n",
        "    question_summaries = html.find(\".question-summary\")\n",
        "    key_names = ['question', 'votes', 'views', 'num_answers', 'tags', 'user_name', 'date']\n",
        "    classes_names = ['.question-hyperlink', '.vote', '.views', '.status', '.tags', '.user-details', '.relativetime']\n",
        "    datas = []\n",
        "    for el in question_summaries:\n",
        "        question_data = {} \n",
        "        for i, _class in enumerate(classes_names):\n",
        "            sub_el = el.find(_class, first=True)\n",
        "            keyname = key_names[i]\n",
        "            question_data[keyname] = clean_scraped_data(sub_el.text, keyname=keyname)\n",
        "\n",
        "        datas.append(question_data)\n",
        "    return datas"
      ],
      "execution_count": null,
      "outputs": []
    },
    {
      "cell_type": "markdown",
      "metadata": {
        "id": "AW0dKPtR1Emj"
      },
      "source": [
        "### Function for Extracting the data from url"
      ]
    },
    {
      "cell_type": "code",
      "metadata": {
        "id": "MwYijk-JFMtu"
      },
      "source": [
        "def extract_data_from_url(url):\n",
        "    res = requests.get(url)\n",
        "    if res.status_code not in range(200, 299):\n",
        "        return []\n",
        "    html_str = res.text\n",
        "    html = HTML(html=html_str)\n",
        "    datas = parse_tagged_page(html)\n",
        "    return datas"
      ],
      "execution_count": null,
      "outputs": []
    },
    {
      "cell_type": "markdown",
      "metadata": {
        "id": "-BIIQUAJ1kF_"
      },
      "source": [
        "### Main function for Scraping data "
      ]
    },
    {
      "cell_type": "code",
      "metadata": {
        "id": "OFiSTmwnFOkG"
      },
      "source": [
        "def scrape_tag(tag = \"iot\", query_filter = \"MostFrequent\", max_pages=2):\n",
        "    base_url = 'https://stackoverflow.com/questions/tagged/'\n",
        "    datas = []\n",
        "    for p in range(max_pages):\n",
        "        page_num = p + 1\n",
        "        url = f\"{base_url}{tag}?sort={query_filter}&page={page_num}\"\n",
        "        datas += extract_data_from_url(url)\n",
        "        time.sleep(1.2)\n",
        "    return datas"
      ],
      "execution_count": null,
      "outputs": []
    },
    {
      "cell_type": "code",
      "metadata": {
        "id": "eHwjZdepFW4B",
        "colab": {
          "base_uri": "https://localhost:8080/"
        },
        "outputId": "95a421db-e6c7-4b92-e6a9-37aad387d20f"
      },
      "source": [
        "datas = scrape_tag()\n",
        "\n",
        "#Scraped data\n",
        "datas"
      ],
      "execution_count": null,
      "outputs": [
        {
          "output_type": "execute_result",
          "data": {
            "text/plain": [
              "[{'date': \"Dec 13 '20 at 17:36\",\n",
              "  'num_answers': '5',\n",
              "  'question': 'Mosquitto: Starting in local only mode',\n",
              "  'tags': 'networking mqtt iot mosquitto',\n",
              "  'user_name': 'FlasH',\n",
              "  'views': '20k',\n",
              "  'votes': '8'},\n",
              " {'date': \"Dec 15 '15 at 8:43\",\n",
              "  'num_answers': '3',\n",
              "  'question': 'RFID RC522 Raspberry PI 2 Windows IOT',\n",
              "  'tags': 'c# raspberry-pi2 iot windows-10-iot-core windowsiot',\n",
              "  'user_name': 'David',\n",
              "  'views': '19k',\n",
              "  'votes': '8'},\n",
              " {'date': \"Apr 15 '16 at 17:12\",\n",
              "  'num_answers': '2',\n",
              "  'question': 'Send request over WiFi (without connection) even if Mobile data is ON (with connection) on Android M',\n",
              "  'tags': 'android networking android-wifi android-6.0-marshmallow iot',\n",
              "  'user_name': 'Alessandro Muzzi',\n",
              "  'views': '8k',\n",
              "  'votes': '19'},\n",
              " {'date': \"May 23 '18 at 18:40\",\n",
              "  'num_answers': '1',\n",
              "  'question': 'RPi python script fails to run from: /etc/rc.local, crontab, systemd',\n",
              "  'tags': 'python json amazon-web-services raspberry-pi iot',\n",
              "  'user_name': 'electronical',\n",
              "  'views': '2k',\n",
              "  'votes': '0'},\n",
              " {'date': \"Mar 7 '17 at 11:48\",\n",
              "  'num_answers': '4',\n",
              "  'question': 'How to download android things OS source code?',\n",
              "  'tags': 'android iot android-things git-repo',\n",
              "  'user_name': 'Anirudh',\n",
              "  'views': '7k',\n",
              "  'votes': '5'},\n",
              " {'date': \"Mar 27 '17 at 5:33\",\n",
              "  'num_answers': '4',\n",
              "  'question': 'Android Studio - MQTT not connecting',\n",
              "  'tags': 'android android-studio mqtt iot mosquitto',\n",
              "  'user_name': 'Noor',\n",
              "  'views': '11k',\n",
              "  'votes': '5'},\n",
              " {'date': \"Feb 25 '16 at 3:29\",\n",
              "  'num_answers': '1',\n",
              "  'question': 'USB Mobile Broadband Modem on Windows 10 IoT?',\n",
              "  'tags': 'raspberry-pi2 iot windowsiot',\n",
              "  'user_name': 'GeorgeMR',\n",
              "  'views': '4k',\n",
              "  'votes': '2'},\n",
              " {'date': \"May 29 '17 at 14:01\",\n",
              "  'num_answers': '3',\n",
              "  'question': 'AWS IoT Android application over MQTT throws MqttException (0) - java.io.IOException: Already connected',\n",
              "  'tags': 'android mqtt iot amazon-cognito aws-iot',\n",
              "  'user_name': 'Shibin Francis',\n",
              "  'views': '3k',\n",
              "  'votes': '7'},\n",
              " {'date': \"Dec 3 '18 at 0:10\",\n",
              "  'num_answers': '1',\n",
              "  'question': 'update uwp app from usb drive on raspberry pi',\n",
              "  'tags': 'uwp raspberry-pi3 iot windows-10-iot-core sideloading',\n",
              "  'user_name': 'PBSnake',\n",
              "  'views': '658',\n",
              "  'votes': '1\\nvote'},\n",
              " {'date': \"Jun 29 '17 at 21:41\",\n",
              "  'num_answers': '2',\n",
              "  'question': \"How to create Android Things' bundle and push it over OTA?\",\n",
              "  'tags': 'android iot ota android-things android-things-console',\n",
              "  'user_name': 'ViliusK',\n",
              "  'views': '2k',\n",
              "  'votes': '2'},\n",
              " {'date': \"Feb 27 '17 at 17:31\",\n",
              "  'num_answers': '5',\n",
              "  'question': 'Force Android to Use Wifi network with no internet',\n",
              "  'tags': 'android networking wifi iot access-point',\n",
              "  'user_name': 'Lonergan6275',\n",
              "  'views': '16k',\n",
              "  'votes': '35'},\n",
              " {'date': \"Dec 30 '15 at 2:17\",\n",
              "  'num_answers': '1',\n",
              "  'question': 'What is the maximum message length for a MQTT broker?',\n",
              "  'tags': 'node.js mqtt iot',\n",
              "  'user_name': 'user781486',\n",
              "  'views': '37k',\n",
              "  'votes': '30'},\n",
              " {'date': \"Aug 31 '16 at 20:37\",\n",
              "  'num_answers': '4',\n",
              "  'question': 'Azure IoT Hub AMQP Communication Multiplexing',\n",
              "  'tags': 'azure amqp iot azure-eventhub azure-iot-hub',\n",
              "  'user_name': 'Nathan G',\n",
              "  'views': '3k',\n",
              "  'votes': '5'},\n",
              " {'date': \"Mar 23 '16 at 17:08\",\n",
              "  'num_answers': '1',\n",
              "  'question': 'Mqtt client disconnects when another client connects to the server',\n",
              "  'tags': 'android mqtt iot paho m2m',\n",
              "  'user_name': 'Hariprasath Gopal',\n",
              "  'views': '1k',\n",
              "  'votes': '0'},\n",
              " {'date': \"Jan 23 '19 at 13:39\",\n",
              "  'num_answers': '1',\n",
              "  'question': 'Act for other devices on Azure IoT Hub',\n",
              "  'tags': 'azure iot azure-iot-hub azure-iot-edge',\n",
              "  'user_name': 'Thomas F.',\n",
              "  'views': '205',\n",
              "  'votes': '5'},\n",
              " {'date': \"Dec 2 '19 at 4:49\",\n",
              "  'num_answers': '3',\n",
              "  'question': 'How to catch ERR_CERT_AUTHORITY_INVALID in javascript',\n",
              "  'tags': 'javascript fetch iot',\n",
              "  'user_name': 'brian',\n",
              "  'views': '3k',\n",
              "  'votes': '5'},\n",
              " {'date': \"May 21 '15 at 20:28\",\n",
              "  'num_answers': '3',\n",
              "  'question': 'Mosquitto 1.4.2 Websocket support',\n",
              "  'tags': 'websocket mqtt iot broker mosquitto',\n",
              "  'user_name': 'ns9',\n",
              "  'views': '11k',\n",
              "  'votes': '2'},\n",
              " {'date': \"Dec 14 '16 at 14:58\",\n",
              "  'num_answers': '3',\n",
              "  'question': 'How do I connect my Raspberry Pi 3 running Android Things to a wifi network?',\n",
              "  'tags': 'raspberry-pi iot raspberry-pi3 android-things',\n",
              "  'user_name': 'Beliot',\n",
              "  'views': '4k',\n",
              "  'votes': '2'},\n",
              " {'date': \"May 18 '18 at 19:08\",\n",
              "  'num_answers': '2',\n",
              "  'question': 'Azure IoT Hub - \"Subscribe\" code not working: \"connection was refused\"',\n",
              "  'tags': 'azure iot publish-subscribe azure-iot-hub subscribe',\n",
              "  'user_name': 'Dalton Cézane',\n",
              "  'views': '2k',\n",
              "  'votes': '1\\nvote'},\n",
              " {'date': \"Mar 31 '16 at 4:40\",\n",
              "  'num_answers': '1',\n",
              "  'question': 'Ensure that target device has developer mode enabled. Could not obtain a developer license due to error',\n",
              "  'tags': 'visual-studio raspberry-pi iot windows-10-iot-core windowsiot',\n",
              "  'user_name': 'Mona Jalal',\n",
              "  'views': '18k',\n",
              "  'votes': '23'},\n",
              " {'date': \"Oct 2 '14 at 3:57\",\n",
              "  'num_answers': '5',\n",
              "  'question': 'Intel Edison MRAA module not working',\n",
              "  'tags': 'node.js arduino iot intel-xdk intel-edison',\n",
              "  'user_name': 'kirtan-shah',\n",
              "  'views': '4k',\n",
              "  'votes': '7'},\n",
              " {'date': 'Jan 19 at 16:45',\n",
              "  'num_answers': '1',\n",
              "  'question': 'Turn on Android LE scanning without asking user for permission',\n",
              "  'tags': 'android bluetooth-lowenergy iot',\n",
              "  'user_name': 'Bentleylust',\n",
              "  'views': '97',\n",
              "  'votes': '2'},\n",
              " {'date': \"Mar 6 '16 at 4:19\",\n",
              "  'num_answers': '1',\n",
              "  'question': 'aws iot describe-endpoint::You must specify a region',\n",
              "  'tags': 'amazon-web-services aws-sdk iot aws-cli aws-iot',\n",
              "  'user_name': 'Mona Jalal',\n",
              "  'views': '2k',\n",
              "  'votes': '2'},\n",
              " {'date': \"Jan 2 '16 at 21:09\",\n",
              "  'num_answers': '1',\n",
              "  'question': 'How to display a clock with the current time in a Windows Core IoT app?',\n",
              "  'tags': 'c# win-universal-app raspberry-pi2 iot windows-10-universal',\n",
              "  'user_name': 'Nicklas Møller Jepsen',\n",
              "  'views': '3k',\n",
              "  'votes': '2'},\n",
              " {'date': 'Feb 1 at 12:15',\n",
              "  'num_answers': '1',\n",
              "  'question': 'Focas fwlib32 CNC library on Linux platform',\n",
              "  'tags': 'linux mono iot cnc',\n",
              "  'user_name': 'Harish Patil',\n",
              "  'views': '1k',\n",
              "  'votes': '1\\nvote'},\n",
              " {'date': \"Jul 11 '17 at 10:29\",\n",
              "  'num_answers': '2',\n",
              "  'question': 'Faster communication between two ESP8266 in client-server setup',\n",
              "  'tags': 'arduino serial-port iot esp8266',\n",
              "  'user_name': 'user7735165',\n",
              "  'views': '6k',\n",
              "  'votes': '1\\nvote'},\n",
              " {'date': \"Jan 14 '19 at 17:41\",\n",
              "  'num_answers': '3',\n",
              "  'question': 'C# How to update desired twin property of an Azure IoT Hub device',\n",
              "  'tags': 'c# azure iot',\n",
              "  'user_name': 'nicedev80',\n",
              "  'views': '3k',\n",
              "  'votes': '1\\nvote'},\n",
              " {'date': \"Jan 18 '16 at 12:26\",\n",
              "  'num_answers': '1',\n",
              "  'question': 'How does device anti-spoofing work in Azure IoT hub?',\n",
              "  'tags': 'azure iot',\n",
              "  'user_name': 'Shuping',\n",
              "  'views': '579',\n",
              "  'votes': '1\\nvote'},\n",
              " {'date': \"Feb 17 '17 at 9:59\",\n",
              "  'num_answers': '3',\n",
              "  'question': 'Hit a URL without opening browser in Android Studio',\n",
              "  'tags': 'android iot ethernet',\n",
              "  'user_name': 'Sarthak Jain',\n",
              "  'views': '3k',\n",
              "  'votes': '0'},\n",
              " {'date': \"Feb 6 '18 at 8:53\",\n",
              "  'num_answers': '2',\n",
              "  'question': 'Send LoRa measures to Fiware IOT agent via MQTT',\n",
              "  'tags': 'json mqtt iot fiware lora',\n",
              "  'user_name': 'Kostas Tsakos',\n",
              "  'views': '675',\n",
              "  'votes': '0'},\n",
              " {'date': \"Jul 19 '19 at 16:22\",\n",
              "  'num_answers': '1',\n",
              "  'question': 'How to get the QoS of a client in HiveMQ Client?',\n",
              "  'tags': 'java mqtt iot hivemq',\n",
              "  'user_name': 'Chigozie A.',\n",
              "  'views': '230',\n",
              "  'votes': '0'},\n",
              " {'date': \"Sep 29 '20 at 17:06\",\n",
              "  'num_answers': '3',\n",
              "  'question': 'How to send images from ESP32 CAM to IoT Core?',\n",
              "  'tags': 'google-cloud-platform iot esp32',\n",
              "  'user_name': 'Laiun Cristian Ezequiel',\n",
              "  'views': '649',\n",
              "  'votes': '0'},\n",
              " {'date': \"Jun 30 '20 at 9:52\",\n",
              "  'num_answers': '1',\n",
              "  'question': 'Azure IoT Edge Module Identity Translation for virtual Downstream Devices',\n",
              "  'tags': 'node.js azure iot azure-iot-edge azure-iot-central',\n",
              "  'user_name': 'Flo',\n",
              "  'views': '270',\n",
              "  'votes': '0'},\n",
              " {'date': \"Dec 13 '20 at 9:26\",\n",
              "  'num_answers': '2',\n",
              "  'question': 'Connecting Reactjs to Myqtthub',\n",
              "  'tags': 'node.js reactjs mqtt iot',\n",
              "  'user_name': 'Karim Sabsabi',\n",
              "  'views': '135',\n",
              "  'votes': '-1'},\n",
              " {'date': \"Apr 27 '15 at 13:49\",\n",
              "  'num_answers': '3',\n",
              "  'question': 'OPC UA protocol vs MQTT protocol',\n",
              "  'tags': 'protocols communication mqtt iot opc-ua',\n",
              "  'user_name': 'Azaksai',\n",
              "  'views': '20k',\n",
              "  'votes': '12'},\n",
              " {'date': \"Oct 15 '15 at 0:06\",\n",
              "  'num_answers': '9',\n",
              "  'question': 'IoT request response protocol',\n",
              "  'tags': 'android parallel-processing mqtt iot low-latency',\n",
              "  'user_name': 'Dominic Bou-Samra',\n",
              "  'views': '2k',\n",
              "  'votes': '12'},\n",
              " {'date': \"Feb 12 '16 at 18:35\",\n",
              "  'num_answers': '4',\n",
              "  'question': 'AWS IOT - Credential should be scoped to correct service',\n",
              "  'tags': 'amazon-web-services aws-sdk iot aws-iot',\n",
              "  'user_name': 'Robby',\n",
              "  'views': '11k',\n",
              "  'votes': '18'},\n",
              " {'date': \"Mar 19 '18 at 12:38\",\n",
              "  'num_answers': '4',\n",
              "  'question': 'Oreo Wifi Connectivity',\n",
              "  'tags': 'android iot android-wifi wifimanager',\n",
              "  'user_name': 'Digital Da',\n",
              "  'views': '5k',\n",
              "  'votes': '13'},\n",
              " {'date': \"Aug 14 '15 at 10:23\",\n",
              "  'num_answers': '1',\n",
              "  'question': 'What is the size of CoAP packet?',\n",
              "  'tags': 'linux sensors gateway iot coap',\n",
              "  'user_name': 'Ankit',\n",
              "  'views': '7k',\n",
              "  'votes': '8'},\n",
              " {'date': \"Feb 25 '16 at 7:37\",\n",
              "  'num_answers': '3',\n",
              "  'question': 'MQTT over websocket in python',\n",
              "  'tags': 'python websocket mqtt iot paho',\n",
              "  'user_name': 'Smit Gardhariya',\n",
              "  'views': '15k',\n",
              "  'votes': '4'},\n",
              " {'date': \"Sep 19 '15 at 19:47\",\n",
              "  'num_answers': '3',\n",
              "  'question': 'How to get Unicast, Dns and Gateway Address in UWP?',\n",
              "  'tags': 'c# .net uwp iot windows-10-iot-core',\n",
              "  'user_name': 'kaya',\n",
              "  'views': '3k',\n",
              "  'votes': '26'},\n",
              " {'date': \"May 4 '15 at 21:38\",\n",
              "  'num_answers': '4',\n",
              "  'question': 'Windows 10 IoT Raspberry Pi 2: Autostart published Application',\n",
              "  'tags': 'iot raspberry-pi2 windows-10',\n",
              "  'user_name': 'Tobias Raphael Dieckmann',\n",
              "  'views': '4k',\n",
              "  'votes': '9'},\n",
              " {'date': \"Jan 6 '17 at 10:17\",\n",
              "  'num_answers': '2',\n",
              "  'question': 'Azure IoT Hub Certificate',\n",
              "  'tags': 'azure ssl x509 iot',\n",
              "  'user_name': 'Max van Kessel',\n",
              "  'views': '5k',\n",
              "  'votes': '6'},\n",
              " {'date': \"Apr 8 '16 at 14:40\",\n",
              "  'num_answers': '1',\n",
              "  'question': 'UWP Raspberry Pi Webserver issue',\n",
              "  'tags': 'c# windows raspberry-pi win-universal-app iot',\n",
              "  'user_name': 'Kevin Jensen Petersen',\n",
              "  'views': '2k',\n",
              "  'votes': '6'},\n",
              " {'date': \"Aug 13 '16 at 11:57\",\n",
              "  'num_answers': '1',\n",
              "  'question': 'published message store by mosquitto broker when subscriber is offline with QOS=2',\n",
              "  'tags': 'mqtt iot mosquitto paho',\n",
              "  'user_name': 'Himanshu mittal',\n",
              "  'views': '4k',\n",
              "  'votes': '6'},\n",
              " {'date': \"May 13 '20 at 11:31\",\n",
              "  'num_answers': '1',\n",
              "  'question': 'Android, communicate with mobile data while connected to wifi without internet access',\n",
              "  'tags': 'android networking mobile wifi iot',\n",
              "  'user_name': 'Davide Sorcelli',\n",
              "  'views': '1k',\n",
              "  'votes': '5'},\n",
              " {'date': \"Aug 15 '17 at 10:54\",\n",
              "  'num_answers': '1',\n",
              "  'question': 'NMCLI device unavailable',\n",
              "  'tags': 'ubuntu network-programming iot',\n",
              "  'user_name': 'Bart',\n",
              "  'views': '14k',\n",
              "  'votes': '2'},\n",
              " {'date': \"Mar 14 '16 at 11:40\",\n",
              "  'num_answers': '4',\n",
              "  'question': 'Totally Disconnect a Bluetooth Low Energy Device',\n",
              "  'tags': 'android bluetooth iot bluetooth-lowenergy',\n",
              "  'user_name': 'nilsi',\n",
              "  'views': '21k',\n",
              "  'votes': '14'},\n",
              " {'date': \"Mar 27 '17 at 6:40\",\n",
              "  'num_answers': '2',\n",
              "  'question': 'Mosquitto vs eclipse paho client library',\n",
              "  'tags': 'eclipse iot mosquitto paho libmosquitto',\n",
              "  'user_name': 'Panch',\n",
              "  'views': '10k',\n",
              "  'votes': '8'},\n",
              " {'date': \"Jun 16 '15 at 21:35\",\n",
              "  'num_answers': '1',\n",
              "  'question': 'Node-RED, IOT Foundation Out Node Not Sending Commands',\n",
              "  'tags': 'mqtt ibm-cloud iot node-red',\n",
              "  'user_name': 'holocron',\n",
              "  'views': '1k',\n",
              "  'votes': '3'},\n",
              " {'date': \"Dec 7 '18 at 18:26\",\n",
              "  'num_answers': '1',\n",
              "  'question': 'AWS IOT connection is getting closed on IPAD OS v12.1.1',\n",
              "  'tags': 'ios amazon-web-services iot aws-iot',\n",
              "  'user_name': 'kalyan',\n",
              "  'views': '737',\n",
              "  'votes': '3'},\n",
              " {'date': \"Apr 18 '18 at 19:23\",\n",
              "  'num_answers': '2',\n",
              "  'question': 'Google Cloud IoT - Invalid MQTT publish topic',\n",
              "  'tags': 'google-cloud-platform mqtt iot paho google-cloud-iot',\n",
              "  'user_name': 'Dalton Cézane',\n",
              "  'views': '3k',\n",
              "  'votes': '2'},\n",
              " {'date': \"Feb 13 '19 at 20:32\",\n",
              "  'num_answers': '1',\n",
              "  'question': 'Video feed to ThingsBoard dashboard',\n",
              "  'tags': 'video-streaming iot dashboard ios-camera thingsboard',\n",
              "  'user_name': 'Jason O',\n",
              "  'views': '2k',\n",
              "  'votes': '2'},\n",
              " {'date': \"Dec 14 '17 at 18:22\",\n",
              "  'num_answers': '1',\n",
              "  'question': 'Nearby Message API MessageLisenter is not triggerd',\n",
              "  'tags': 'android iot android-things google-nearby',\n",
              "  'user_name': 'Wubbalubbadubdub',\n",
              "  'views': '953',\n",
              "  'votes': '1\\nvote'},\n",
              " {'date': \"Jan 18 '16 at 11:42\",\n",
              "  'num_answers': '1',\n",
              "  'question': 'Why Primary key and Secondary key in Azure IoT hub?',\n",
              "  'tags': 'azure iot symmetric-key azure-iot-hub',\n",
              "  'user_name': 'Shuping',\n",
              "  'views': '4k',\n",
              "  'votes': '12'},\n",
              " {'date': \"Oct 30 '14 at 21:35\",\n",
              "  'num_answers': '2',\n",
              "  'question': 'CoAP and DTLS integration',\n",
              "  'tags': 'iot network-protocols coap dtls libcoap',\n",
              "  'user_name': 'Puzzle',\n",
              "  'views': '4k',\n",
              "  'votes': '9'},\n",
              " {'date': \"Mar 29 '16 at 11:56\",\n",
              "  'num_answers': '3',\n",
              "  'question': 'How to run a Windows 10 IOT app locally?',\n",
              "  'tags': 'c# raspberry-pi win-universal-app iot windows-10-iot-core',\n",
              "  'user_name': 'Simon Mattes',\n",
              "  'views': '2k',\n",
              "  'votes': '5'},\n",
              " {'date': \"Feb 8 '19 at 6:17\",\n",
              "  'num_answers': '3',\n",
              "  'question': 'can not connect to aws iot device with react native',\n",
              "  'tags': 'javascript react-native iot aws-iot',\n",
              "  'user_name': 'Yash Vaghela',\n",
              "  'views': '1k',\n",
              "  'votes': '4'},\n",
              " {'date': \"May 18 '16 at 22:00\",\n",
              "  'num_answers': '2',\n",
              "  'question': 'Eclipse Californium CoAP wildcard as url path',\n",
              "  'tags': 'java eclipse url iot californium',\n",
              "  'user_name': 'user1079425',\n",
              "  'views': '989',\n",
              "  'votes': '4'},\n",
              " {'date': \"Apr 5 '18 at 8:31\",\n",
              "  'num_answers': '1',\n",
              "  'question': 'Save data from Azure HUB-IOT to an Azure SQL-database',\n",
              "  'tags': 'azure-sql-database iot azure-iot-hub',\n",
              "  'user_name': 'Giacomo El Ghisa Zidarich',\n",
              "  'views': '5k',\n",
              "  'votes': '4'},\n",
              " {'date': \"Nov 7 '16 at 12:37\",\n",
              "  'num_answers': '0',\n",
              "  'question': 'Android Ble GATT_ERROR 133 getting often with samsung devices',\n",
              "  'tags': 'android bluetooth-lowenergy android-bluetooth iot gatt',\n",
              "  'user_name': 'Arun Ravichandran',\n",
              "  'views': '1k',\n",
              "  'votes': '3'},\n",
              " {'date': \"Nov 21 '15 at 13:00\",\n",
              "  'num_answers': '1',\n",
              "  'question': 'Sending and receiving images via a socket',\n",
              "  'tags': 'c# sockets uwp raspberry-pi2 iot',\n",
              "  'user_name': 'Andrew Simpson',\n",
              "  'views': '1k',\n",
              "  'votes': '2'},\n",
              " {'date': \"May 22 '17 at 13:18\",\n",
              "  'num_answers': '2',\n",
              "  'question': 'AWS IoT login from android MQTT client using IAM is not working',\n",
              "  'tags': 'android amazon-web-services mqtt iot aws-iot',\n",
              "  'user_name': 'Shibin Francis',\n",
              "  'views': '1k',\n",
              "  'votes': '2'},\n",
              " {'date': \"Feb 2 '18 at 8:00\",\n",
              "  'num_answers': '4',\n",
              "  'question': 'Google iot core connection status',\n",
              "  'tags': 'mqtt iot google-cloud-pubsub google-cloud-iot',\n",
              "  'user_name': 'Honney Goyal',\n",
              "  'views': '2k',\n",
              "  'votes': '2'},\n",
              " {'date': \"Oct 3 '14 at 12:39\",\n",
              "  'num_answers': '2',\n",
              "  'question': 'Contiki UDP packet transmission duration with CC2538',\n",
              "  'tags': 'embedded contiki iot',\n",
              "  'user_name': 'Darko P.',\n",
              "  'views': '2k',\n",
              "  'votes': '2'},\n",
              " {'date': \"Apr 10 '19 at 14:12\",\n",
              "  'num_answers': '1',\n",
              "  'question': \"Azure Stream Analytics 'TimeStamp By' in query doesn't works on job but works fine on test\",\n",
              "  'tags': 'sql azure timestamp iot azure-stream-analytics',\n",
              "  'user_name': 'ulysse',\n",
              "  'views': '839',\n",
              "  'votes': '2'},\n",
              " {'date': \"Dec 19 '19 at 3:05\",\n",
              "  'num_answers': '1',\n",
              "  'question': 'Does Contiki-NG support Radio Duty Cycling (RDC)?',\n",
              "  'tags': 'iot contiki contiki-ng',\n",
              "  'user_name': 'Anuradha',\n",
              "  'views': '214',\n",
              "  'votes': '1\\nvote'},\n",
              " {'date': \"Jun 18 '18 at 11:01\",\n",
              "  'num_answers': '1',\n",
              "  'question': 'UWP AppServiceConnection - SendResponseAsync returns AppServiceResponseStatus.Failure',\n",
              "  'tags': 'c# uwp windows-10 iot windows-10-iot-core',\n",
              "  'user_name': 'ElettroAle',\n",
              "  'views': '773',\n",
              "  'votes': '1\\nvote'},\n",
              " {'date': \"May 15 '16 at 14:08\",\n",
              "  'num_answers': '0',\n",
              "  'question': 'Mosquitto Secure MQTT connection',\n",
              "  'tags': 'java ssl mqtt iot mosquitto',\n",
              "  'user_name': 'Sadaf',\n",
              "  'views': '482',\n",
              "  'votes': '1\\nvote'},\n",
              " {'date': \"May 30 '20 at 13:05\",\n",
              "  'num_answers': '1',\n",
              "  'question': 'BLE Advertising RawData - How to decode?',\n",
              "  'tags': 'bluetooth-lowenergy ads iot',\n",
              "  'user_name': 'Robin',\n",
              "  'views': '2k',\n",
              "  'votes': '1\\nvote'},\n",
              " {'date': \"Jan 13 '20 at 11:12\",\n",
              "  'num_answers': '1',\n",
              "  'question': 'How to load or infer onnx models in edge devices like raspberry pi?',\n",
              "  'tags': 'raspberry-pi iot onnx',\n",
              "  'user_name': 'TULASI RAM LAGHUMAVARAPU',\n",
              "  'views': '3k',\n",
              "  'votes': '1\\nvote'},\n",
              " {'date': \"Mar 29 '16 at 16:05\",\n",
              "  'num_answers': '1',\n",
              "  'question': 'mosquitto broker retain multiple messages',\n",
              "  'tags': 'android mqtt iot mosquitto paho',\n",
              "  'user_name': 'Samrat Das',\n",
              "  'views': '3k',\n",
              "  'votes': '1\\nvote'},\n",
              " {'date': \"Mar 26 '17 at 7:18\",\n",
              "  'num_answers': '1',\n",
              "  'question': 'IoT using Google Cloud Service IoT solutions (Weave): How to connect Raspberry Pi and lighting the LED?',\n",
              "  'tags': 'raspberry-pi google-cloud-platform iot google-cloud-iot',\n",
              "  'user_name': 'CodeHunter',\n",
              "  'views': '639',\n",
              "  'votes': '1\\nvote'},\n",
              " {'date': \"Aug 26 '16 at 10:09\",\n",
              "  'num_answers': '2',\n",
              "  'question': 'Maximum number of BLE sensors that could be connected to a BLE gateway at a given instant?',\n",
              "  'tags': 'bluetooth bluetooth-lowenergy iot gateway ibmwearables',\n",
              "  'user_name': 'velu4689',\n",
              "  'views': '7k',\n",
              "  'votes': '1\\nvote'},\n",
              " {'date': \"Oct 2 '18 at 21:03\",\n",
              "  'num_answers': '1',\n",
              "  'question': 'UWP/C#/IoT/RPi: Access USB Device (Stick) from Win IoT on RPi AND Copy to KnownFolders',\n",
              "  'tags': 'c# uwp raspberry-pi iot windows-10-iot-core',\n",
              "  'user_name': 'Martin S',\n",
              "  'views': '532',\n",
              "  'votes': '0'},\n",
              " {'date': \"Sep 15 '20 at 12:10\",\n",
              "  'num_answers': '2',\n",
              "  'question': 'Is there a way to update device initial twin from azure function app?',\n",
              "  'tags': 'azure-functions iot azure-iot-hub azure-iot-edge azure-iot-sdk',\n",
              "  'user_name': 'iAviator',\n",
              "  'views': '288',\n",
              "  'votes': '0'},\n",
              " {'date': \"Oct 29 '20 at 11:56\",\n",
              "  'num_answers': '1',\n",
              "  'question': 'LoRa based network stack alternatives to LoRaWAN',\n",
              "  'tags': 'network-programming iot gateway lora lorawan',\n",
              "  'user_name': 'Christof Tinnes',\n",
              "  'views': '606',\n",
              "  'votes': '0'},\n",
              " {'date': \"May 21 '16 at 11:54\",\n",
              "  'num_answers': '2',\n",
              "  'question': 'MQTT connection consumes less power',\n",
              "  'tags': 'tcp mqtt iot',\n",
              "  'user_name': 'scorpio',\n",
              "  'views': '1k',\n",
              "  'votes': '0'},\n",
              " {'date': \"Nov 20 '19 at 10:30\",\n",
              "  'num_answers': '2',\n",
              "  'question': 'MQTT send message from main thread',\n",
              "  'tags': 'java android mqtt iot paho',\n",
              "  'user_name': 'vico',\n",
              "  'views': '1k',\n",
              "  'votes': '0'},\n",
              " {'date': \"Apr 3 '18 at 19:44\",\n",
              "  'num_answers': '3',\n",
              "  'question': 'Google IoT - Right mode to receive notifications (subscribe working)',\n",
              "  'tags': 'python google-cloud-platform publish-subscribe iot google-cloud-iot',\n",
              "  'user_name': 'Dalton Cézane',\n",
              "  'views': '1k',\n",
              "  'votes': '0'},\n",
              " {'date': \"Apr 5 '17 at 9:26\",\n",
              "  'num_answers': '1',\n",
              "  'question': 'purpose of Azure iot hub device-to-cloud partitions',\n",
              "  'tags': 'azure iot sharding throttling azure-iot-hub',\n",
              "  'user_name': 'GHariz',\n",
              "  'views': '5k',\n",
              "  'votes': '12'},\n",
              " {'date': \"Feb 25 '16 at 12:23\",\n",
              "  'num_answers': '2',\n",
              "  'question': 'Android AllJoyn: Connection with second machine gives error of BusAttachement',\n",
              "  'tags': 'android sensors android-sensors iot alljoyn',\n",
              "  'user_name': 'Robin Royal',\n",
              "  'views': '264',\n",
              "  'votes': '11'},\n",
              " {'date': \"Mar 10 '18 at 6:25\",\n",
              "  'num_answers': '2',\n",
              "  'question': 'Android thing: java.lang.NoClassDefFoundError: Failed resolution of: Lcom/google/android/things/pio/PeripheralManager;',\n",
              "  'tags': 'iot android-things',\n",
              "  'user_name': 'happy_coding',\n",
              "  'views': '4k',\n",
              "  'votes': '6'},\n",
              " {'date': \"Dec 15 '15 at 10:21\",\n",
              "  'num_answers': '1',\n",
              "  'question': 'AWS IoT - Access shadow through .Net, REST, with certificate',\n",
              "  'tags': 'rest authentication amazon-web-services iot',\n",
              "  'user_name': 'Erez',\n",
              "  'views': '2k',\n",
              "  'votes': '5'},\n",
              " {'date': \"Jun 11 '17 at 17:39\",\n",
              "  'num_answers': '1',\n",
              "  'question': 'Spring Boot application freezes after a day',\n",
              "  'tags': 'spring-boot tomcat8 iot freeze',\n",
              "  'user_name': 'amitection',\n",
              "  'views': '3k',\n",
              "  'votes': '4'},\n",
              " {'date': \"May 11 '17 at 14:01\",\n",
              "  'num_answers': '2',\n",
              "  'question': 'GSM/GPRS Module native integration on Raspberry 3 with Android Things',\n",
              "  'tags': 'android raspberry-pi iot raspberry-pi3 android-things',\n",
              "  'user_name': 'user3195244',\n",
              "  'views': '821',\n",
              "  'votes': '4'},\n",
              " {'date': \"Jul 19 '17 at 11:26\",\n",
              "  'num_answers': '2',\n",
              "  'question': 'Why use MQTT Node.JS library?',\n",
              "  'tags': 'javascript node.js web mqtt iot',\n",
              "  'user_name': 'Olivia Delpierre',\n",
              "  'views': '2k',\n",
              "  'votes': '4'},\n",
              " {'date': \"Dec 8 '18 at 20:44\",\n",
              "  'num_answers': '2',\n",
              "  'question': 'Connecting CAD model (Solidworks, AutoCAD or CATIA) with realtime measurements from Raspbery Pi or Arduino Sensor',\n",
              "  'tags': 'raspberry-pi cloud iot catia solidworks',\n",
              "  'user_name': 'tony rox',\n",
              "  'views': '346',\n",
              "  'votes': '3'},\n",
              " {'date': \"Aug 8 '19 at 14:17\",\n",
              "  'num_answers': '1',\n",
              "  'question': 'What is the maximum message payload size for a AWS-IoT core broker?',\n",
              "  'tags': 'mqtt iot aws-iot',\n",
              "  'user_name': 'zwitterion',\n",
              "  'views': '4k',\n",
              "  'votes': '3'},\n",
              " {'date': \"Oct 7 '15 at 10:14\",\n",
              "  'num_answers': '1',\n",
              "  'question': 'Fiware: can not start cygnus as service',\n",
              "  'tags': 'centos7 fiware iot fiware-cygnus',\n",
              "  'user_name': 'sabrina2020',\n",
              "  'views': '217',\n",
              "  'votes': '3'},\n",
              " {'date': \"Jul 10 '19 at 7:50\",\n",
              "  'num_answers': '1',\n",
              "  'question': 'Get all devices from IoT Azure Hub',\n",
              "  'tags': 'c# .net azure iot azure-iot-hub',\n",
              "  'user_name': 'Istorn',\n",
              "  'views': '1k',\n",
              "  'votes': '2'},\n",
              " {'date': \"May 31 '19 at 9:47\",\n",
              "  'num_answers': '1',\n",
              "  'question': 'MQTT topic names for request/response',\n",
              "  'tags': 'amazon-web-services mqtt iot aws-iot',\n",
              "  'user_name': 'pozzugno',\n",
              "  'views': '1k',\n",
              "  'votes': '2'},\n",
              " {'date': \"Jan 28 '16 at 15:03\",\n",
              "  'num_answers': '0',\n",
              "  'question': 'Deploying NodeJs Express Rest API to Windows 10 IoT',\n",
              "  'tags': 'node.js rest express iot windows-10-iot-core',\n",
              "  'user_name': 'jonypony3',\n",
              "  'views': '1k',\n",
              "  'votes': '2'},\n",
              " {'date': \"Oct 23 '15 at 19:00\",\n",
              "  'num_answers': '2',\n",
              "  'question': 'Refused: not authorized error occurs with IBM IoT Foundation on Bluemix',\n",
              "  'tags': 'ibm-cloud iot',\n",
              "  'user_name': \"William 'Bill' Wentworth\",\n",
              "  'views': '1k',\n",
              "  'votes': '2'},\n",
              " {'date': \"Dec 18 '15 at 11:25\",\n",
              "  'num_answers': '3',\n",
              "  'question': 'ImportError: cannot import name Pubnub',\n",
              "  'tags': 'python raspberry-pi raspberry-pi2 pubnub iot',\n",
              "  'user_name': 'Jenkins',\n",
              "  'views': '5k',\n",
              "  'votes': '2'},\n",
              " {'date': \"Jan 17 '16 at 20:05\",\n",
              "  'num_answers': '1',\n",
              "  'question': 'Publishing commands to device in IBM IoT using MQTT in Java',\n",
              "  'tags': 'java ibm-cloud mqtt iot',\n",
              "  'user_name': 'user2670818',\n",
              "  'views': '1k',\n",
              "  'votes': '2'},\n",
              " {'date': \"Jul 31 '15 at 9:49\",\n",
              "  'num_answers': '1',\n",
              "  'question': 'KURA: how to change the MQTT messages format',\n",
              "  'tags': 'eclipse mqtt iot',\n",
              "  'user_name': 'sabrina2020',\n",
              "  'views': '972',\n",
              "  'votes': '2'},\n",
              " {'date': \"Aug 13 '15 at 22:09\",\n",
              "  'num_answers': '1',\n",
              "  'question': 'RPMs for IDAS IoTAgents GE, from Fiware',\n",
              "  'tags': 'fiware iot',\n",
              "  'user_name': 'A. Vieira',\n",
              "  'views': '156',\n",
              "  'votes': '2'},\n",
              " {'date': \"Apr 5 '16 at 8:39\",\n",
              "  'num_answers': '1',\n",
              "  'question': \"Deprecated conversion from string constant to 'char*' [-Wwrite-strings] error in Arduino sketch\",\n",
              "  'tags': 'c arduino-uno iot esp8266',\n",
              "  'user_name': 'STACK2',\n",
              "  'views': '3k',\n",
              "  'votes': '2'},\n",
              " {'date': \"Aug 5 '15 at 16:04\",\n",
              "  'num_answers': '5',\n",
              "  'question': 'How do I set the IP Address of a device using Windows Universal App?',\n",
              "  'tags': 'raspberry-pi win-universal-app iot windows-10-iot-core',\n",
              "  'user_name': 'Bill Greer',\n",
              "  'views': '10k',\n",
              "  'votes': '2'}]"
            ]
          },
          "metadata": {},
          "execution_count": 34
        }
      ]
    },
    {
      "cell_type": "code",
      "metadata": {
        "colab": {
          "base_uri": "https://localhost:8080/"
        },
        "id": "q9RaI2LDvmgs",
        "outputId": "23f4c90e-10bf-4320-83fa-899add7dba16"
      },
      "source": [
        "len(datas)"
      ],
      "execution_count": null,
      "outputs": [
        {
          "output_type": "execute_result",
          "data": {
            "text/plain": [
              "100"
            ]
          },
          "metadata": {},
          "execution_count": 35
        }
      ]
    },
    {
      "cell_type": "markdown",
      "metadata": {
        "id": "xLgCNtMRDwMp"
      },
      "source": [
        "### Normalize the units\n"
      ]
    },
    {
      "cell_type": "code",
      "metadata": {
        "colab": {
          "base_uri": "https://localhost:8080/",
          "height": 206
        },
        "id": "sFCi0aA6F0xS",
        "outputId": "a71dc393-aa57-4d8c-9340-e6ec13d838a7"
      },
      "source": [
        "df = pd.DataFrame(datas)\n",
        "df.head()"
      ],
      "execution_count": null,
      "outputs": [
        {
          "output_type": "execute_result",
          "data": {
            "text/html": [
              "<div>\n",
              "<style scoped>\n",
              "    .dataframe tbody tr th:only-of-type {\n",
              "        vertical-align: middle;\n",
              "    }\n",
              "\n",
              "    .dataframe tbody tr th {\n",
              "        vertical-align: top;\n",
              "    }\n",
              "\n",
              "    .dataframe thead th {\n",
              "        text-align: right;\n",
              "    }\n",
              "</style>\n",
              "<table border=\"1\" class=\"dataframe\">\n",
              "  <thead>\n",
              "    <tr style=\"text-align: right;\">\n",
              "      <th></th>\n",
              "      <th>question</th>\n",
              "      <th>votes</th>\n",
              "      <th>views</th>\n",
              "      <th>num_answers</th>\n",
              "      <th>tags</th>\n",
              "      <th>user_name</th>\n",
              "      <th>date</th>\n",
              "    </tr>\n",
              "  </thead>\n",
              "  <tbody>\n",
              "    <tr>\n",
              "      <th>0</th>\n",
              "      <td>Mosquitto: Starting in local only mode</td>\n",
              "      <td>8</td>\n",
              "      <td>20k</td>\n",
              "      <td>5</td>\n",
              "      <td>networking mqtt iot mosquitto</td>\n",
              "      <td>FlasH</td>\n",
              "      <td>Dec 13 '20 at 17:36</td>\n",
              "    </tr>\n",
              "    <tr>\n",
              "      <th>1</th>\n",
              "      <td>RFID RC522 Raspberry PI 2 Windows IOT</td>\n",
              "      <td>8</td>\n",
              "      <td>19k</td>\n",
              "      <td>3</td>\n",
              "      <td>c# raspberry-pi2 iot windows-10-iot-core windo...</td>\n",
              "      <td>David</td>\n",
              "      <td>Dec 15 '15 at 8:43</td>\n",
              "    </tr>\n",
              "    <tr>\n",
              "      <th>2</th>\n",
              "      <td>Send request over WiFi (without connection) ev...</td>\n",
              "      <td>19</td>\n",
              "      <td>8k</td>\n",
              "      <td>2</td>\n",
              "      <td>android networking android-wifi android-6.0-ma...</td>\n",
              "      <td>Alessandro Muzzi</td>\n",
              "      <td>Apr 15 '16 at 17:12</td>\n",
              "    </tr>\n",
              "    <tr>\n",
              "      <th>3</th>\n",
              "      <td>RPi python script fails to run from: /etc/rc.l...</td>\n",
              "      <td>0</td>\n",
              "      <td>2k</td>\n",
              "      <td>1</td>\n",
              "      <td>python json amazon-web-services raspberry-pi iot</td>\n",
              "      <td>electronical</td>\n",
              "      <td>May 23 '18 at 18:40</td>\n",
              "    </tr>\n",
              "    <tr>\n",
              "      <th>4</th>\n",
              "      <td>How to download android things OS source code?</td>\n",
              "      <td>5</td>\n",
              "      <td>7k</td>\n",
              "      <td>4</td>\n",
              "      <td>android iot android-things git-repo</td>\n",
              "      <td>Anirudh</td>\n",
              "      <td>Mar 7 '17 at 11:48</td>\n",
              "    </tr>\n",
              "  </tbody>\n",
              "</table>\n",
              "</div>"
            ],
            "text/plain": [
              "                                            question  ...                 date\n",
              "0             Mosquitto: Starting in local only mode  ...  Dec 13 '20 at 17:36\n",
              "1              RFID RC522 Raspberry PI 2 Windows IOT  ...   Dec 15 '15 at 8:43\n",
              "2  Send request over WiFi (without connection) ev...  ...  Apr 15 '16 at 17:12\n",
              "3  RPi python script fails to run from: /etc/rc.l...  ...  May 23 '18 at 18:40\n",
              "4     How to download android things OS source code?  ...   Mar 7 '17 at 11:48\n",
              "\n",
              "[5 rows x 7 columns]"
            ]
          },
          "metadata": {},
          "execution_count": 36
        }
      ]
    },
    {
      "cell_type": "code",
      "metadata": {
        "colab": {
          "base_uri": "https://localhost:8080/",
          "height": 206
        },
        "id": "xAf2S96vKzON",
        "outputId": "bdf65231-01a2-48b7-bfff-04b7e4c4f2bf"
      },
      "source": [
        "#k -> 1000, m -> 10,00,000\n",
        "unit = {'k':' * 10**3', 'm':' * 10**6'}\n",
        "\n",
        "df['views'] = pd.eval(df.views.replace(unit.keys(), unit.values(), regex=True).str.replace(r'[^\\d\\.\\*]+',''))\n",
        "df.head()"
      ],
      "execution_count": null,
      "outputs": [
        {
          "output_type": "execute_result",
          "data": {
            "text/html": [
              "<div>\n",
              "<style scoped>\n",
              "    .dataframe tbody tr th:only-of-type {\n",
              "        vertical-align: middle;\n",
              "    }\n",
              "\n",
              "    .dataframe tbody tr th {\n",
              "        vertical-align: top;\n",
              "    }\n",
              "\n",
              "    .dataframe thead th {\n",
              "        text-align: right;\n",
              "    }\n",
              "</style>\n",
              "<table border=\"1\" class=\"dataframe\">\n",
              "  <thead>\n",
              "    <tr style=\"text-align: right;\">\n",
              "      <th></th>\n",
              "      <th>question</th>\n",
              "      <th>votes</th>\n",
              "      <th>views</th>\n",
              "      <th>num_answers</th>\n",
              "      <th>tags</th>\n",
              "      <th>user_name</th>\n",
              "      <th>date</th>\n",
              "    </tr>\n",
              "  </thead>\n",
              "  <tbody>\n",
              "    <tr>\n",
              "      <th>0</th>\n",
              "      <td>Mosquitto: Starting in local only mode</td>\n",
              "      <td>8</td>\n",
              "      <td>20000</td>\n",
              "      <td>5</td>\n",
              "      <td>networking mqtt iot mosquitto</td>\n",
              "      <td>FlasH</td>\n",
              "      <td>Dec 13 '20 at 17:36</td>\n",
              "    </tr>\n",
              "    <tr>\n",
              "      <th>1</th>\n",
              "      <td>RFID RC522 Raspberry PI 2 Windows IOT</td>\n",
              "      <td>8</td>\n",
              "      <td>19000</td>\n",
              "      <td>3</td>\n",
              "      <td>c# raspberry-pi2 iot windows-10-iot-core windo...</td>\n",
              "      <td>David</td>\n",
              "      <td>Dec 15 '15 at 8:43</td>\n",
              "    </tr>\n",
              "    <tr>\n",
              "      <th>2</th>\n",
              "      <td>Send request over WiFi (without connection) ev...</td>\n",
              "      <td>19</td>\n",
              "      <td>8000</td>\n",
              "      <td>2</td>\n",
              "      <td>android networking android-wifi android-6.0-ma...</td>\n",
              "      <td>Alessandro Muzzi</td>\n",
              "      <td>Apr 15 '16 at 17:12</td>\n",
              "    </tr>\n",
              "    <tr>\n",
              "      <th>3</th>\n",
              "      <td>RPi python script fails to run from: /etc/rc.l...</td>\n",
              "      <td>0</td>\n",
              "      <td>2000</td>\n",
              "      <td>1</td>\n",
              "      <td>python json amazon-web-services raspberry-pi iot</td>\n",
              "      <td>electronical</td>\n",
              "      <td>May 23 '18 at 18:40</td>\n",
              "    </tr>\n",
              "    <tr>\n",
              "      <th>4</th>\n",
              "      <td>How to download android things OS source code?</td>\n",
              "      <td>5</td>\n",
              "      <td>7000</td>\n",
              "      <td>4</td>\n",
              "      <td>android iot android-things git-repo</td>\n",
              "      <td>Anirudh</td>\n",
              "      <td>Mar 7 '17 at 11:48</td>\n",
              "    </tr>\n",
              "  </tbody>\n",
              "</table>\n",
              "</div>"
            ],
            "text/plain": [
              "                                            question  ...                 date\n",
              "0             Mosquitto: Starting in local only mode  ...  Dec 13 '20 at 17:36\n",
              "1              RFID RC522 Raspberry PI 2 Windows IOT  ...   Dec 15 '15 at 8:43\n",
              "2  Send request over WiFi (without connection) ev...  ...  Apr 15 '16 at 17:12\n",
              "3  RPi python script fails to run from: /etc/rc.l...  ...  May 23 '18 at 18:40\n",
              "4     How to download android things OS source code?  ...   Mar 7 '17 at 11:48\n",
              "\n",
              "[5 rows x 7 columns]"
            ]
          },
          "metadata": {},
          "execution_count": 37
        }
      ]
    },
    {
      "cell_type": "code",
      "metadata": {
        "colab": {
          "base_uri": "https://localhost:8080/"
        },
        "id": "i0x1GgoqEqIK",
        "outputId": "57f38613-a086-4514-aae1-ab3ea4c89e92"
      },
      "source": [
        "df.shape"
      ],
      "execution_count": null,
      "outputs": [
        {
          "output_type": "execute_result",
          "data": {
            "text/plain": [
              "(100, 7)"
            ]
          },
          "metadata": {},
          "execution_count": 38
        }
      ]
    },
    {
      "cell_type": "markdown",
      "metadata": {
        "id": "xMD9m0vzEern"
      },
      "source": [
        "### Save the scraped data in .csv format"
      ]
    },
    {
      "cell_type": "code",
      "metadata": {
        "id": "1fUusuOqEieD"
      },
      "source": [
        "df.to_csv(\"iot_scraped.csv\", index=False)"
      ],
      "execution_count": null,
      "outputs": []
    },
    {
      "cell_type": "markdown",
      "metadata": {
        "id": "6zoFJSahv7IF"
      },
      "source": [
        "## Exploratory Data Analysis on the scraped data"
      ]
    },
    {
      "cell_type": "markdown",
      "metadata": {
        "id": "FwPVnoFIwkRw"
      },
      "source": [
        "### Which tags are popularly used by Stackoverflow community in IoT domain?"
      ]
    },
    {
      "cell_type": "code",
      "metadata": {
        "colab": {
          "base_uri": "https://localhost:8080/",
          "height": 653,
          "referenced_widgets": [
            "b5f7c05c062f4273bd70a520bc5b27a7",
            "49603e182f2e444bbd458426582ed3b3",
            "be4ca4b14a10497f8c62cb4db42be45e",
            "ce109690844243d6a1d30e6e6802b357",
            "197530d0544243da8ac74ff92d61d608",
            "b39dac1de5dc40bcbaf5c376480690e0",
            "f51a2cf8865a43aeb16e5a32238d406f",
            "24b89f59ba16492dacdb14454eadc08d",
            "42f596de83804c97b9b05bce082977e6",
            "6220aa0b0efa4458a70d46eef705b46b",
            "79046c0f6e724ac8852270c967749722"
          ]
        },
        "id": "yy-mXK93I80n",
        "outputId": "d958631b-ef9e-45ab-897f-a61e1c77e256"
      },
      "source": [
        "tags_list = list(df['tags'].unique())\n",
        "all_tags = []\n",
        "for tag in tqdm_notebook(tags_list):\n",
        "    all_tags += tag.split(' ')\n",
        "\n",
        "count_tags = Counter(all_tags)\n",
        "tags_list = pd.DataFrame([list(count_tags.keys()), list(count_tags.values())])\n",
        "tags_list = tags_list.transpose()\n",
        "tags_list.columns = ['tags', 'counts']\n",
        "tags_list = tags_list.sort_values(by='counts', ascending=False)\n",
        "\n",
        "plt.barh(list(tags_list['tags'])[:25], list(tags_list['counts'])[:25])\n",
        "plt.ylabel('Tags -->')\n",
        "plt.xlabel('Count -->')\n",
        "plt.title('25 Most Popular Tags')\n",
        "plt.show()"
      ],
      "execution_count": null,
      "outputs": [
        {
          "output_type": "display_data",
          "data": {
            "application/vnd.jupyter.widget-view+json": {
              "model_id": "b5f7c05c062f4273bd70a520bc5b27a7",
              "version_minor": 0,
              "version_major": 2
            },
            "text/plain": [
              "  0%|          | 0/100 [00:00<?, ?it/s]"
            ]
          },
          "metadata": {}
        },
        {
          "output_type": "display_data",
          "data": {
            "image/png": "[encoded data removed]",
            "text/plain": [
              "<Figure size 720x720 with 1 Axes>"
            ]
          },
          "metadata": {
            "needs_background": "light"
          }
        }
      ]
    },
    {
      "cell_type": "markdown",
      "metadata": {
        "id": "L_PhBUqm2pTP"
      },
      "source": [
        "### Which are the most popular programming language tags used in IoT domain?"
      ]
    },
    {
      "cell_type": "code",
      "metadata": {
        "colab": {
          "base_uri": "https://localhost:8080/",
          "height": 621
        },
        "id": "sqFQrF7gJVqv",
        "outputId": "56490f9d-0c47-4f9e-8f93-95d5d3b19550"
      },
      "source": [
        "programming_languages = ['python', 'java', 'node.js', 'c#']\n",
        "\n",
        "x = []\n",
        "y = []\n",
        "\n",
        "for tag in programming_languages:\n",
        "    index = list(tags_list['tags']).index(tag)\n",
        "    x.append(tag)\n",
        "    y.append(list(tags_list['counts'])[index])\n",
        "\n",
        "plt.bar(x, y)\n",
        "plt.ylabel('Count-->')\n",
        "plt.xlabel('Tags-->')\n",
        "plt.title('Popularity of Programming language tags')\n",
        "plt.show()"
      ],
      "execution_count": null,
      "outputs": [
        {
          "output_type": "display_data",
          "data": {
            "image/png": "[encoded data removed]",
            "text/plain": [
              "<Figure size 720x720 with 1 Axes>"
            ]
          },
          "metadata": {
            "needs_background": "light"
          }
        }
      ]
    },
    {
      "cell_type": "markdown",
      "metadata": {
        "id": "qY2GOE2h3aNP"
      },
      "source": [
        "### How many tags are present per question?"
      ]
    },
    {
      "cell_type": "code",
      "metadata": {
        "id": "_GO9roedOE4G",
        "colab": {
          "base_uri": "https://localhost:8080/",
          "height": 653,
          "referenced_widgets": [
            "e8ab8d9a328c47b2aae11305e0afba82",
            "dbb141e2785748e7811f83675639eb1d",
            "076c4f07d124449bb28a09f84e09140f",
            "fab1b3697c084cbd8d6fafaee05b3464",
            "6fc01f84c0ae4cad89203c5993b83972",
            "3c20d5dab633484cbef0e2957a96f05a",
            "4d27539f1b2748249fbbd3bd5f58a8a0",
            "a64541f8ac9d4dcda671c6d1d716ced4",
            "3241f123e23f4ecf9d0b7c8b18460bd3",
            "e319dbaae811481d8f368e63b45adafe",
            "d2fe102e57f44f988ba9f4a87ea7b16f"
          ]
        },
        "outputId": "ebbd4131-b5ed-49b0-e3da-0b6e135b8ef2"
      },
      "source": [
        "tags = list(df['tags'].unique())\n",
        "num_tags = []\n",
        "\n",
        "for tag_ in tqdm_notebook(tags):\n",
        "    num_tags.append(len(tag_.split(' ')))\n",
        "\n",
        "num_tags = Counter(num_tags)\n",
        "\n",
        "plt.bar(list(num_tags.keys()), list(num_tags.values()))\n",
        "plt.xlabel('Number of tags -->')\n",
        "plt.ylabel('Number of questions -->')\n",
        "plt.title('Number of Tags per question')\n",
        "plt.show()"
      ],
      "execution_count": null,
      "outputs": [
        {
          "output_type": "display_data",
          "data": {
            "application/vnd.jupyter.widget-view+json": {
              "model_id": "e8ab8d9a328c47b2aae11305e0afba82",
              "version_minor": 0,
              "version_major": 2
            },
            "text/plain": [
              "  0%|          | 0/100 [00:00<?, ?it/s]"
            ]
          },
          "metadata": {}
        },
        {
          "output_type": "display_data",
          "data": {
            "image/png": "[encoded data removed]",
            "text/plain": [
              "<Figure size 720x720 with 1 Axes>"
            ]
          },
          "metadata": {
            "needs_background": "light"
          }
        }
      ]
    },
    {
      "cell_type": "markdown",
      "metadata": {
        "id": "z62vaN993mFS"
      },
      "source": [
        "### Are the number of views of question related to number of answers?"
      ]
    },
    {
      "cell_type": "code",
      "metadata": {
        "colab": {
          "base_uri": "https://localhost:8080/",
          "height": 206
        },
        "id": "u6KX5WQ3y6EN",
        "outputId": "e423383b-af1b-4c89-edbd-d62f82d2cd9c"
      },
      "source": [
        "view_q = df[['views', 'num_answers']].drop_duplicates().reset_index(drop=True)\n",
        "view_q.head()"
      ],
      "execution_count": null,
      "outputs": [
        {
          "output_type": "execute_result",
          "data": {
            "text/html": [
              "<div>\n",
              "<style scoped>\n",
              "    .dataframe tbody tr th:only-of-type {\n",
              "        vertical-align: middle;\n",
              "    }\n",
              "\n",
              "    .dataframe tbody tr th {\n",
              "        vertical-align: top;\n",
              "    }\n",
              "\n",
              "    .dataframe thead th {\n",
              "        text-align: right;\n",
              "    }\n",
              "</style>\n",
              "<table border=\"1\" class=\"dataframe\">\n",
              "  <thead>\n",
              "    <tr style=\"text-align: right;\">\n",
              "      <th></th>\n",
              "      <th>views</th>\n",
              "      <th>num_answers</th>\n",
              "    </tr>\n",
              "  </thead>\n",
              "  <tbody>\n",
              "    <tr>\n",
              "      <th>0</th>\n",
              "      <td>20000</td>\n",
              "      <td>5</td>\n",
              "    </tr>\n",
              "    <tr>\n",
              "      <th>1</th>\n",
              "      <td>19000</td>\n",
              "      <td>3</td>\n",
              "    </tr>\n",
              "    <tr>\n",
              "      <th>2</th>\n",
              "      <td>8000</td>\n",
              "      <td>2</td>\n",
              "    </tr>\n",
              "    <tr>\n",
              "      <th>3</th>\n",
              "      <td>2000</td>\n",
              "      <td>1</td>\n",
              "    </tr>\n",
              "    <tr>\n",
              "      <th>4</th>\n",
              "      <td>7000</td>\n",
              "      <td>4</td>\n",
              "    </tr>\n",
              "  </tbody>\n",
              "</table>\n",
              "</div>"
            ],
            "text/plain": [
              "   views num_answers\n",
              "0  20000           5\n",
              "1  19000           3\n",
              "2   8000           2\n",
              "3   2000           1\n",
              "4   7000           4"
            ]
          },
          "metadata": {},
          "execution_count": 43
        }
      ]
    },
    {
      "cell_type": "code",
      "metadata": {
        "id": "uhq7AfCUOE16",
        "colab": {
          "base_uri": "https://localhost:8080/",
          "height": 300
        },
        "outputId": "a42b38dd-93f4-4f50-9eb1-70188e8d0064"
      },
      "source": [
        "view_q.astype(int).describe()"
      ],
      "execution_count": null,
      "outputs": [
        {
          "output_type": "execute_result",
          "data": {
            "text/html": [
              "<div>\n",
              "<style scoped>\n",
              "    .dataframe tbody tr th:only-of-type {\n",
              "        vertical-align: middle;\n",
              "    }\n",
              "\n",
              "    .dataframe tbody tr th {\n",
              "        vertical-align: top;\n",
              "    }\n",
              "\n",
              "    .dataframe thead th {\n",
              "        text-align: right;\n",
              "    }\n",
              "</style>\n",
              "<table border=\"1\" class=\"dataframe\">\n",
              "  <thead>\n",
              "    <tr style=\"text-align: right;\">\n",
              "      <th></th>\n",
              "      <th>views</th>\n",
              "      <th>num_answers</th>\n",
              "    </tr>\n",
              "  </thead>\n",
              "  <tbody>\n",
              "    <tr>\n",
              "      <th>count</th>\n",
              "      <td>66.000000</td>\n",
              "      <td>66.000000</td>\n",
              "    </tr>\n",
              "    <tr>\n",
              "      <th>mean</th>\n",
              "      <td>5095.848485</td>\n",
              "      <td>2.196970</td>\n",
              "    </tr>\n",
              "    <tr>\n",
              "      <th>std</th>\n",
              "      <td>7012.082329</td>\n",
              "      <td>1.541425</td>\n",
              "    </tr>\n",
              "    <tr>\n",
              "      <th>min</th>\n",
              "      <td>97.000000</td>\n",
              "      <td>0.000000</td>\n",
              "    </tr>\n",
              "    <tr>\n",
              "      <th>25%</th>\n",
              "      <td>651.250000</td>\n",
              "      <td>1.000000</td>\n",
              "    </tr>\n",
              "    <tr>\n",
              "      <th>50%</th>\n",
              "      <td>2000.000000</td>\n",
              "      <td>2.000000</td>\n",
              "    </tr>\n",
              "    <tr>\n",
              "      <th>75%</th>\n",
              "      <td>6750.000000</td>\n",
              "      <td>3.000000</td>\n",
              "    </tr>\n",
              "    <tr>\n",
              "      <th>max</th>\n",
              "      <td>37000.000000</td>\n",
              "      <td>9.000000</td>\n",
              "    </tr>\n",
              "  </tbody>\n",
              "</table>\n",
              "</div>"
            ],
            "text/plain": [
              "              views  num_answers\n",
              "count     66.000000    66.000000\n",
              "mean    5095.848485     2.196970\n",
              "std     7012.082329     1.541425\n",
              "min       97.000000     0.000000\n",
              "25%      651.250000     1.000000\n",
              "50%     2000.000000     2.000000\n",
              "75%     6750.000000     3.000000\n",
              "max    37000.000000     9.000000"
            ]
          },
          "metadata": {},
          "execution_count": 44
        }
      ]
    },
    {
      "cell_type": "markdown",
      "metadata": {
        "id": "4_JpYrX-4iNy"
      },
      "source": [
        "### Are the tags mentioned in questions similar to each other?"
      ]
    },
    {
      "cell_type": "code",
      "metadata": {
        "id": "Re5T9gMjOEzr",
        "colab": {
          "base_uri": "https://localhost:8080/",
          "height": 607
        },
        "outputId": "53301c8f-ca37-45e0-fe55-e4376b461eb5"
      },
      "source": [
        "tags = []\n",
        "for tag in list(df['tags']):\n",
        "    tags.append(tag.split(' '))\n",
        "\n",
        "embedding = Word2Vec(tags, sg=1, size=256, min_count=1)\n",
        "\n",
        "X = embedding[embedding.wv.vocab]\n",
        "pca = PCA(n_components=2)\n",
        "result = pca.fit_transform(X)\n",
        "\n",
        "fig, ax = plt.subplots()\n",
        "ax.plot(result[:, 0], result[:, 1], 'o')\n",
        "ax.set_title('Embeddings - Spread')\n",
        "plt.show()"
      ],
      "execution_count": null,
      "outputs": [
        {
          "output_type": "display_data",
          "data": {
            "image/png": "[encoded data removed]",
            "text/plain": [
              "<Figure size 720x720 with 1 Axes>"
            ]
          },
          "metadata": {
            "needs_background": "light"
          }
        }
      ]
    },
    {
      "cell_type": "code",
      "metadata": {
        "id": "RSOkUw_HOExS",
        "colab": {
          "base_uri": "https://localhost:8080/",
          "height": 607
        },
        "outputId": "4544ef99-743e-44f6-deec-2d496e6b83a0"
      },
      "source": [
        "i = 25\n",
        "\n",
        "fig, ax = plt.subplots()\n",
        "ax.set_title('Embeddings - Annotated')\n",
        "ax.scatter(result[:i, 0], result[:i, 1])\n",
        "\n",
        "for j, txt in enumerate(list(embedding.wv.vocab)[:i]):\n",
        "    ax.annotate(txt, result[j])"
      ],
      "execution_count": null,
      "outputs": [
        {
          "output_type": "display_data",
          "data": {
            "image/png": "[encoded data removed]",
            "text/plain": [
              "<Figure size 720x720 with 1 Axes>"
            ]
          },
          "metadata": {
            "needs_background": "light"
          }
        }
      ]
    },
    {
      "cell_type": "code",
      "metadata": {
        "id": "u0gQybMJOEuw",
        "colab": {
          "base_uri": "https://localhost:8080/",
          "height": 610
        },
        "outputId": "b94afd6f-838c-4067-b782-58ee4e979a1e"
      },
      "source": [
        "w1 = 'python'\n",
        "w2 = 'java'\n",
        "w3 = 'paho'\n",
        "w4 = 'mqtt'\n",
        "w5 = 'raspberry-pi2'\n",
        "w6 = 'coap'\n",
        "w7 = 'json'\n",
        "w8 = 'amazon-web-services'\n",
        "\n",
        "word_list = list(embedding.wv.vocab)\n",
        "i1 = word_list.index(w1)\n",
        "i2 = word_list.index(w2)\n",
        "i3 = word_list.index(w3)\n",
        "i4 = word_list.index(w4)\n",
        "i5 = word_list.index(w5)\n",
        "i6 = word_list.index(w6)\n",
        "i7 = word_list.index(w7)\n",
        "i8 = word_list.index(w8)\n",
        "\n",
        "fig, ax = plt.subplots()\n",
        "ax.scatter(result[i1, 0], result[i1, 1])\n",
        "ax.scatter(result[i2, 0], result[i2, 1])\n",
        "ax.scatter(result[i3, 0], result[i3, 1])\n",
        "ax.scatter(result[i4, 0], result[i4, 1])\n",
        "ax.scatter(result[i5, 0], result[i5, 1])\n",
        "ax.scatter(result[i6, 0], result[i6, 1])\n",
        "ax.scatter(result[i7, 0], result[i7, 1])\n",
        "ax.scatter(result[i8, 0], result[i8, 1])\n",
        "\n",
        "ax.annotate(w1, result[i1])\n",
        "ax.annotate(w2, result[i2])\n",
        "ax.annotate(w3, result[i3])\n",
        "ax.annotate(w4, result[i4])\n",
        "ax.annotate(w5, result[i5])\n",
        "ax.annotate(w6, result[i6])\n",
        "ax.annotate(w7, result[i7])\n",
        "ax.annotate(w8, result[i8])"
      ],
      "execution_count": null,
      "outputs": [
        {
          "output_type": "execute_result",
          "data": {
            "text/plain": [
              "Text(-0.004348462, -0.0023412816, 'amazon-web-services')"
            ]
          },
          "metadata": {},
          "execution_count": 47
        },
        {
          "output_type": "display_data",
          "data": {
            "image/png": "[encoded data removed]",
            "text/plain": [
              "<Figure size 720x720 with 1 Axes>"
            ]
          },
          "metadata": {
            "needs_background": "light"
          }
        }
      ]
    },
    {
      "cell_type": "markdown",
      "metadata": {
        "id": "cAzfneig45sj"
      },
      "source": [
        "### Which tags attract the highest/lowest views?"
      ]
    },
    {
      "cell_type": "code",
      "metadata": {
        "id": "W6r3wq9TOEsH",
        "colab": {
          "base_uri": "https://localhost:8080/",
          "height": 206
        },
        "outputId": "d3699000-b6e1-4225-ff70-bed49dec08e0"
      },
      "source": [
        "tag_views = df[['tags', 'views']].drop_duplicates().reset_index(drop=True)\n",
        "tag_views.head()"
      ],
      "execution_count": null,
      "outputs": [
        {
          "output_type": "execute_result",
          "data": {
            "text/html": [
              "<div>\n",
              "<style scoped>\n",
              "    .dataframe tbody tr th:only-of-type {\n",
              "        vertical-align: middle;\n",
              "    }\n",
              "\n",
              "    .dataframe tbody tr th {\n",
              "        vertical-align: top;\n",
              "    }\n",
              "\n",
              "    .dataframe thead th {\n",
              "        text-align: right;\n",
              "    }\n",
              "</style>\n",
              "<table border=\"1\" class=\"dataframe\">\n",
              "  <thead>\n",
              "    <tr style=\"text-align: right;\">\n",
              "      <th></th>\n",
              "      <th>tags</th>\n",
              "      <th>views</th>\n",
              "    </tr>\n",
              "  </thead>\n",
              "  <tbody>\n",
              "    <tr>\n",
              "      <th>0</th>\n",
              "      <td>networking mqtt iot mosquitto</td>\n",
              "      <td>20000</td>\n",
              "    </tr>\n",
              "    <tr>\n",
              "      <th>1</th>\n",
              "      <td>c# raspberry-pi2 iot windows-10-iot-core windo...</td>\n",
              "      <td>19000</td>\n",
              "    </tr>\n",
              "    <tr>\n",
              "      <th>2</th>\n",
              "      <td>android networking android-wifi android-6.0-ma...</td>\n",
              "      <td>8000</td>\n",
              "    </tr>\n",
              "    <tr>\n",
              "      <th>3</th>\n",
              "      <td>python json amazon-web-services raspberry-pi iot</td>\n",
              "      <td>2000</td>\n",
              "    </tr>\n",
              "    <tr>\n",
              "      <th>4</th>\n",
              "      <td>android iot android-things git-repo</td>\n",
              "      <td>7000</td>\n",
              "    </tr>\n",
              "  </tbody>\n",
              "</table>\n",
              "</div>"
            ],
            "text/plain": [
              "                                                tags  views\n",
              "0                      networking mqtt iot mosquitto  20000\n",
              "1  c# raspberry-pi2 iot windows-10-iot-core windo...  19000\n",
              "2  android networking android-wifi android-6.0-ma...   8000\n",
              "3   python json amazon-web-services raspberry-pi iot   2000\n",
              "4                android iot android-things git-repo   7000"
            ]
          },
          "metadata": {},
          "execution_count": 48
        }
      ]
    },
    {
      "cell_type": "code",
      "metadata": {
        "id": "4mNpbSmEOEnQ",
        "colab": {
          "base_uri": "https://localhost:8080/",
          "height": 653,
          "referenced_widgets": [
            "856b8b9f30c64fada8db40938760d897",
            "476981e61f7b4512ab917976437cf0f0",
            "b2f74da2f7ac432c89f50089f9f14ec1",
            "0bccb740bdb1467187c47ee9fb5552d1",
            "269cc16af56148ae88894c7f3d117948",
            "68f8d36403f749ce86921903cb6cd911",
            "d752b319a857408590890e8c90ec8922",
            "d9231f2c24c144b6985efb936b5049cb",
            "06d4e8330e834fb8bb7c9f44fc249961",
            "84abec4132394065b772be8839d6d945",
            "4dec2d45d5e44065acbdf65e07646b18"
          ]
        },
        "outputId": "33e19d2d-43b0-445f-8bc5-890b576b6b58"
      },
      "source": [
        "tagView = {}\n",
        "for i in tqdm_notebook(range(len(tag_views['tags']))):\n",
        "    for tag in tag_views['tags'][i].split(' '):\n",
        "        try:\n",
        "            tagView[tag].append(tag_views['views'][i])\n",
        "        except Exception:\n",
        "            tagView[tag] = [tag_views['views'][i]]\n",
        "tagViewAvg = {}\n",
        "for key in list(tagView.keys()):\n",
        "    tagViewAvg[key] = np.average(tagView[key])\n",
        "\n",
        "tagViewAvg = pd.DataFrame([list(tagViewAvg.keys()), list(tagViewAvg.values())])\n",
        "tagViewAvg = tagViewAvg.transpose()\n",
        "tagViewAvg.columns = ['tags', 'views']\n",
        "tagViewAvg = tagViewAvg.sort_values('views')\n",
        "\n",
        "plt.barh(list(tagViewAvg['tags'])[:25], list(tagViewAvg['views'])[:25])\n",
        "plt.xlabel('Views -->')\n",
        "plt.ylabel('Tags -->')\n",
        "plt.title('25 least popular tags')\n",
        "plt.show()"
      ],
      "execution_count": null,
      "outputs": [
        {
          "output_type": "display_data",
          "data": {
            "application/vnd.jupyter.widget-view+json": {
              "model_id": "856b8b9f30c64fada8db40938760d897",
              "version_minor": 0,
              "version_major": 2
            },
            "text/plain": [
              "  0%|          | 0/100 [00:00<?, ?it/s]"
            ]
          },
          "metadata": {}
        },
        {
          "output_type": "display_data",
          "data": {
            "image/png": "[encoded data removed]",
            "text/plain": [
              "<Figure size 720x720 with 1 Axes>"
            ]
          },
          "metadata": {
            "needs_background": "light"
          }
        }
      ]
    },
    {
      "cell_type": "code",
      "metadata": {
        "colab": {
          "base_uri": "https://localhost:8080/",
          "height": 621
        },
        "id": "7HPVwIOyRvc3",
        "outputId": "91e87b67-2980-47bc-ba2d-3a21614fdde9"
      },
      "source": [
        "plt.barh(list(tagViewAvg['tags'])[-25:], list(tagViewAvg['views'])[-25:])\n",
        "plt.xlabel('Average number of Views')\n",
        "plt.ylabel('Tag')\n",
        "plt.title('25 - Most Popular Tags')\n",
        "plt.show()"
      ],
      "execution_count": null,
      "outputs": [
        {
          "output_type": "display_data",
          "data": {
            "image/png": "[encoded data removed]",
            "text/plain": [
              "<Figure size 720x720 with 1 Axes>"
            ]
          },
          "metadata": {
            "needs_background": "light"
          }
        }
      ]
    },
    {
      "cell_type": "code",
      "metadata": {
        "colab": {
          "base_uri": "https://localhost:8080/",
          "height": 607
        },
        "id": "Z-nB9KNhRw4k",
        "outputId": "c0c9e2c6-e1c0-4088-abf6-f31ece920586"
      },
      "source": [
        "fig, ax = plt.subplots(2, 3)\n",
        "\n",
        "ax[0][0].plot([0] + tagView['python'])\n",
        "ax[0][0].set_title('python')\n",
        "\n",
        "ax[0][1].plot([0] + tagView['azure'])\n",
        "ax[0][1].set_title('azure')\n",
        "\n",
        "ax[0][2].plot([0] + tagView['mqtt'])\n",
        "ax[0][2].set_title('mqtt')\n",
        "\n",
        "ax[1][0].plot([0] + tagView['paho'])\n",
        "ax[1][0].set_title('paho')\n",
        "\n",
        "ax[1][1].plot([0] + tagView['arduino'])\n",
        "ax[1][1].set_title('arduino')\n",
        "\n",
        "ax[1][2].plot([0] + tagView['c#'])\n",
        "ax[1][2].set_title('c#')\n",
        "plt.show()"
      ],
      "execution_count": null,
      "outputs": [
        {
          "output_type": "display_data",
          "data": {
            "image/png": "[encoded data removed]",
            "text/plain": [
              "<Figure size 720x720 with 6 Axes>"
            ]
          },
          "metadata": {
            "needs_background": "light"
          }
        }
      ]
    },
    {
      "cell_type": "markdown",
      "metadata": {
        "id": "ty_Gxg876osj"
      },
      "source": [
        "### Which Programming Language tags attract the highest/lowest views?"
      ]
    },
    {
      "cell_type": "code",
      "metadata": {
        "colab": {
          "base_uri": "https://localhost:8080/",
          "height": 606
        },
        "id": "Mu6piU4i6Opy",
        "outputId": "6bc01b55-dc58-4e1a-fdba-e8fb5d57b496"
      },
      "source": [
        "programming_languages = ['python', 'java', 'node.js', 'c#']\n",
        "\n",
        "x = []\n",
        "y = []\n",
        "\n",
        "for tag in programming_languages:\n",
        "    index = list(tagViewAvg['tags']).index(tag)\n",
        "    x.append(tag)\n",
        "    y.append(list(tagViewAvg['views'])[index])\n",
        "\n",
        "plt.bar(x, y)\n",
        "plt.ylabel('Average number of Views')\n",
        "plt.xlabel('Tag')\n",
        "plt.show()"
      ],
      "execution_count": null,
      "outputs": [
        {
          "output_type": "display_data",
          "data": {
            "image/png": "[encoded data removed]",
            "text/plain": [
              "<Figure size 720x720 with 1 Axes>"
            ]
          },
          "metadata": {
            "needs_background": "light"
          }
        }
      ]
    },
    {
      "cell_type": "code",
      "metadata": {
        "colab": {
          "base_uri": "https://localhost:8080/",
          "height": 624
        },
        "id": "QulJlfjB60rG",
        "outputId": "d3e64de6-3bfd-4abc-9388-4f5efd65dfd0"
      },
      "source": [
        "fig, ax = plt.subplots(2, 2)\n",
        "ax[0][0].plot(tagView['python'])\n",
        "ax[0][0].set_title('python')\n",
        "\n",
        "ax[0][1].plot(tagView['java'])\n",
        "ax[0][1].set_title('java')\n",
        "\n",
        "ax[1][0].plot(tagView['node.js'])\n",
        "ax[1][0].set_title('node.js')\n",
        "\n",
        "ax[1][1].plot(tagView['c#'])\n",
        "ax[1][1].set_title('c#')"
      ],
      "execution_count": null,
      "outputs": [
        {
          "output_type": "execute_result",
          "data": {
            "text/plain": [
              "Text(0.5, 1.0, 'c#')"
            ]
          },
          "metadata": {},
          "execution_count": 53
        },
        {
          "output_type": "display_data",
          "data": {
            "image/png": "[encoded data removed]",
            "text/plain": [
              "<Figure size 720x720 with 4 Axes>"
            ]
          },
          "metadata": {
            "needs_background": "light"
          }
        }
      ]
    }
  ]
}